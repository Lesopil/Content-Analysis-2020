{
 "cells": [
  {
   "cell_type": "code",
   "execution_count": 15,
   "metadata": {},
   "outputs": [],
   "source": [
    "import gensim#For word2vec, etc\n",
    "import requests #For downloading our datasets\n",
    "import lucem_illud_2020\n",
    "\n",
    "import re\n",
    "\n",
    "import numpy as np #For arrays\n",
    "import pandas #Gives us DataFrames\n",
    "import matplotlib.pyplot as plt #For graphics\n",
    "import seaborn #Makes the graphics look nicer\n",
    "import sklearn.metrics.pairwise #For cosine similarity\n",
    "import sklearn.manifold #For T-SNE\n",
    "import sklearn.decomposition #For PCA\n",
    "\n",
    "#This 'magic' command makes the plots work better\n",
    "#in the notebook, don't use it outside of a notebook.\n",
    "#Also you can ignore the warning\n",
    "%matplotlib inline\n",
    "\n",
    "import os #For looking through files\n",
    "import os.path #For managing file paths"
   ]
  },
  {
   "cell_type": "code",
   "execution_count": 6,
   "metadata": {},
   "outputs": [],
   "source": [
    "df1 = pandas.read_json(\"izvestiia_complete.json\")"
   ]
  },
  {
   "cell_type": "code",
   "execution_count": 8,
   "metadata": {},
   "outputs": [
    {
     "data": {
      "text/html": [
       "<div>\n",
       "<style scoped>\n",
       "    .dataframe tbody tr th:only-of-type {\n",
       "        vertical-align: middle;\n",
       "    }\n",
       "\n",
       "    .dataframe tbody tr th {\n",
       "        vertical-align: top;\n",
       "    }\n",
       "\n",
       "    .dataframe thead th {\n",
       "        text-align: right;\n",
       "    }\n",
       "</style>\n",
       "<table border=\"1\" class=\"dataframe\">\n",
       "  <thead>\n",
       "    <tr style=\"text-align: right;\">\n",
       "      <th></th>\n",
       "      <th>text</th>\n",
       "      <th>year</th>\n",
       "      <th>filename</th>\n",
       "      <th>type</th>\n",
       "      <th>category</th>\n",
       "      <th>clean_text</th>\n",
       "      <th>clean_text2</th>\n",
       "      <th>tokenized</th>\n",
       "      <th>lemmas</th>\n",
       "      <th>lemmas_string</th>\n",
       "    </tr>\n",
       "  </thead>\n",
       "  <tbody>\n",
       "    <tr>\n",
       "      <td>0</td>\n",
       "      <td>№ 79\\t•\\t19 марта 1987 года\\n\\nФУТБОЛ: ИГРА, Б...</td>\n",
       "      <td>1987</td>\n",
       "      <td>1987 Issue 79 Page 6.txt</td>\n",
       "      <td>Communist</td>\n",
       "      <td>True</td>\n",
       "      <td>\\t\\t марта  года\\n\\nФУТБОЛ ИГРА БОРЬБА ПРАЗДН...</td>\n",
       "      <td>марта  годаФУТБОЛ ИГРА БОРЬБА ПРАЗДНИКТУРЕЦК...</td>\n",
       "      <td>[марта, годаФУТБОЛ, ИГРА, БОРЬБА, ПРАЗДНИКТУРЕ...</td>\n",
       "      <td>[март, годафутбол, игра, борьба, праздниктурец...</td>\n",
       "      <td>март годафутбол игра борьба праздниктурецкий ф...</td>\n",
       "    </tr>\n",
       "    <tr>\n",
       "      <td>1</td>\n",
       "      <td>а.'\\n\\n\\t'а'\\t'\\n\\n\\t\\t\\t\\t Подробности длл\\n\\...</td>\n",
       "      <td>1987</td>\n",
       "      <td>1987 Issue 219 Page 6.txt</td>\n",
       "      <td>Communist</td>\n",
       "      <td>True</td>\n",
       "      <td>а\\n\\n\\tа\\t\\n\\n\\t\\t\\t\\t Подробности длл\\n\\nСто ...</td>\n",
       "      <td>аа Подробности дллСто пятьдесят переговоров со...</td>\n",
       "      <td>[аа, Подробности, дллСто, пятьдесят, переговор...</td>\n",
       "      <td>[аа, подробность, дллсто, переговоры, состоять...</td>\n",
       "      <td>аа подробность дллсто переговоры состояться ив...</td>\n",
       "    </tr>\n",
       "    <tr>\n",
       "      <td>2</td>\n",
       "      <td>известии \\t ...\\n\\nСовместное советско- малайз...</td>\n",
       "      <td>1987</td>\n",
       "      <td>1987 Issue 219 Page 4.txt</td>\n",
       "      <td>Communist</td>\n",
       "      <td>True</td>\n",
       "      <td>известии \\t \\n\\nСовместное советско малайзийск...</td>\n",
       "      <td>известии  Совместное советско малайзийское ком...</td>\n",
       "      <td>[известии, Совместное, советско, малайзийское,...</td>\n",
       "      <td>[известия, совместный, советский, малайзийский...</td>\n",
       "      <td>известия совместный советский малайзийский ком...</td>\n",
       "    </tr>\n",
       "    <tr>\n",
       "      <td>3</td>\n",
       "      <td>’ ИЗВЕСТИЯ\\t■ - ■ по странам и континентам\\t\\t...</td>\n",
       "      <td>1987</td>\n",
       "      <td>1987 Issue 79 Page 5.txt</td>\n",
       "      <td>Communist</td>\n",
       "      <td>True</td>\n",
       "      <td>ИЗВЕСТИЯ\\t   по странам и континентам\\t\\t \\n\\...</td>\n",
       "      <td>ИЗВЕСТИЯ   по странам и континентам   марта  ...</td>\n",
       "      <td>[ИЗВЕСТИЯ, по, странам, и, континентам, марта,...</td>\n",
       "      <td>[известие, страна, континент, март, год, отзву...</td>\n",
       "      <td>известие страна континент март год отзвучать п...</td>\n",
       "    </tr>\n",
       "    <tr>\n",
       "      <td>4</td>\n",
       "      <td>ИЗВЕСТИЯ\\n\\n\\tГ! О СТРАНАМ ИР НСНТИНЕНТАМ —— 2...</td>\n",
       "      <td>1987</td>\n",
       "      <td>1987 Issue 79 Page 4.txt</td>\n",
       "      <td>Communist</td>\n",
       "      <td>True</td>\n",
       "      <td>ИЗВЕСТИЯ\\n\\n\\tГ О СТРАНАМ ИР НСНТИНЕНТАМ      ...</td>\n",
       "      <td>ИЗВЕСТИЯГ О СТРАНАМ ИР НСНТИНЕНТАМ       марта...</td>\n",
       "      <td>[ИЗВЕСТИЯГ, О, СТРАНАМ, ИР, НСНТИНЕНТАМ, марта...</td>\n",
       "      <td>[известияг, страна, ир, нснтинент, март, год, ...</td>\n",
       "      <td>известияг страна ир нснтинент март год телетай...</td>\n",
       "    </tr>\n",
       "    <tr>\n",
       "      <td>...</td>\n",
       "      <td>...</td>\n",
       "      <td>...</td>\n",
       "      <td>...</td>\n",
       "      <td>...</td>\n",
       "      <td>...</td>\n",
       "      <td>...</td>\n",
       "      <td>...</td>\n",
       "      <td>...</td>\n",
       "      <td>...</td>\n",
       "      <td>...</td>\n",
       "    </tr>\n",
       "    <tr>\n",
       "      <td>1299</td>\n",
       "      <td>﻿№56 •\\nИЗВЕСТИЯ\\n26 марта 1°|&gt;7 ’&lt;&gt;'&lt;\\t•\\nНаш...</td>\n",
       "      <td>1997</td>\n",
       "      <td>1997 Issue 56 March 26 Page 6.txt</td>\n",
       "      <td>Democratic</td>\n",
       "      <td>False</td>\n",
       "      <td>\\nИЗВЕСТИЯ\\n марта  \\t\\nНаш рейтинг\\n  \\n Дач...</td>\n",
       "      <td>ИЗВЕСТИЯ марта  Наш рейтинг   ДачаЭкологическ...</td>\n",
       "      <td>[ИЗВЕСТИЯ, марта, Наш, рейтинг, ДачаЭкологичес...</td>\n",
       "      <td>[известие, март, рейтинг, дачаэкологически, бе...</td>\n",
       "      <td>известие март рейтинг дачаэкологически безупре...</td>\n",
       "    </tr>\n",
       "    <tr>\n",
       "      <td>1300</td>\n",
       "      <td>﻿№ 18 3\\nИЗВЕСТИЯ\\n30 января 1997 года •\\nВ со...</td>\n",
       "      <td>1997</td>\n",
       "      <td>1997 Issue 18 January 30 Page 6.txt</td>\n",
       "      <td>Democratic</td>\n",
       "      <td>False</td>\n",
       "      <td>\\nИЗВЕСТИЯ\\n января  года \\nВ соответствии с...</td>\n",
       "      <td>ИЗВЕСТИЯ января  года В соответствии с утвер...</td>\n",
       "      <td>[ИЗВЕСТИЯ, января, года, В, соответствии, с, у...</td>\n",
       "      <td>[известие, январь, год, соответствие, утвердит...</td>\n",
       "      <td>известие январь год соответствие утвердить пол...</td>\n",
       "    </tr>\n",
       "    <tr>\n",
       "      <td>1301</td>\n",
       "      <td>﻿№ 56 •\\nИЗВЕСТИЯ\\n26 марта 1997 года •\\n' Таб...</td>\n",
       "      <td>1997</td>\n",
       "      <td>1997 Issue 56 March 26 Page 7.txt</td>\n",
       "      <td>Democratic</td>\n",
       "      <td>False</td>\n",
       "      <td>\\nИЗВЕСТИЯ\\n марта  года \\n Таблетки\\nБромел...</td>\n",
       "      <td>ИЗВЕСТИЯ марта  года  ТаблеткиБромелайнПЦИЫЖ...</td>\n",
       "      <td>[ИЗВЕСТИЯ, марта, года, ТаблеткиБромелайнПЦИЫЖ...</td>\n",
       "      <td>[известие, март, год, таблеткибромелайнпциыжнр...</td>\n",
       "      <td>известие март год таблеткибромелайнпциыжнр сгн...</td>\n",
       "    </tr>\n",
       "    <tr>\n",
       "      <td>1302</td>\n",
       "      <td>﻿№ 227 •\\nИЗВЕСТИЯ\\n29 ноября 1997 года •\\n3\\n...</td>\n",
       "      <td>1997</td>\n",
       "      <td>1997 Issue 227 November 29 Page 3.txt</td>\n",
       "      <td>Democratic</td>\n",
       "      <td>False</td>\n",
       "      <td>\\nИЗВЕСТИЯ\\n ноября  года \\n\\n Так считает п...</td>\n",
       "      <td>ИЗВЕСТИЯ ноября  года  Так считает председат...</td>\n",
       "      <td>[ИЗВЕСТИЯ, ноября, года, Так, считает, председ...</td>\n",
       "      <td>[известие, ноябрь, год, считать, председатель,...</td>\n",
       "      <td>известие ноябрь год считать председатель украи...</td>\n",
       "    </tr>\n",
       "    <tr>\n",
       "      <td>1303</td>\n",
       "      <td>﻿№ 246 •\\nИЗВЕСТИЯ\\n30 декабря 1997 года •\\nВз...</td>\n",
       "      <td>1997</td>\n",
       "      <td>1997 Issue 246 December 30 Page 4.txt</td>\n",
       "      <td>Democratic</td>\n",
       "      <td>False</td>\n",
       "      <td>\\nИЗВЕСТИЯ\\n декабря  года \\nВзятки на дорог...</td>\n",
       "      <td>ИЗВЕСТИЯ декабря  года Взятки на дорогахИз в...</td>\n",
       "      <td>[ИЗВЕСТИЯ, декабря, года, Взятки, на, дорогахИ...</td>\n",
       "      <td>[известие, декабрь, год, взятка, дорогахиз, во...</td>\n",
       "      <td>известие декабрь год взятка дорогахиз волгогра...</td>\n",
       "    </tr>\n",
       "  </tbody>\n",
       "</table>\n",
       "<p>1304 rows × 10 columns</p>\n",
       "</div>"
      ],
      "text/plain": [
       "                                                   text  year  \\\n",
       "0     № 79\\t•\\t19 марта 1987 года\\n\\nФУТБОЛ: ИГРА, Б...  1987   \n",
       "1     а.'\\n\\n\\t'а'\\t'\\n\\n\\t\\t\\t\\t Подробности длл\\n\\...  1987   \n",
       "2     известии \\t ...\\n\\nСовместное советско- малайз...  1987   \n",
       "3     ’ ИЗВЕСТИЯ\\t■ - ■ по странам и континентам\\t\\t...  1987   \n",
       "4     ИЗВЕСТИЯ\\n\\n\\tГ! О СТРАНАМ ИР НСНТИНЕНТАМ —— 2...  1987   \n",
       "...                                                 ...   ...   \n",
       "1299  ﻿№56 •\\nИЗВЕСТИЯ\\n26 марта 1°|>7 ’<>'<\\t•\\nНаш...  1997   \n",
       "1300  ﻿№ 18 3\\nИЗВЕСТИЯ\\n30 января 1997 года •\\nВ со...  1997   \n",
       "1301  ﻿№ 56 •\\nИЗВЕСТИЯ\\n26 марта 1997 года •\\n' Таб...  1997   \n",
       "1302  ﻿№ 227 •\\nИЗВЕСТИЯ\\n29 ноября 1997 года •\\n3\\n...  1997   \n",
       "1303  ﻿№ 246 •\\nИЗВЕСТИЯ\\n30 декабря 1997 года •\\nВз...  1997   \n",
       "\n",
       "                                   filename        type  category  \\\n",
       "0                  1987 Issue 79 Page 6.txt   Communist      True   \n",
       "1                 1987 Issue 219 Page 6.txt   Communist      True   \n",
       "2                 1987 Issue 219 Page 4.txt   Communist      True   \n",
       "3                  1987 Issue 79 Page 5.txt   Communist      True   \n",
       "4                  1987 Issue 79 Page 4.txt   Communist      True   \n",
       "...                                     ...         ...       ...   \n",
       "1299      1997 Issue 56 March 26 Page 6.txt  Democratic     False   \n",
       "1300    1997 Issue 18 January 30 Page 6.txt  Democratic     False   \n",
       "1301      1997 Issue 56 March 26 Page 7.txt  Democratic     False   \n",
       "1302  1997 Issue 227 November 29 Page 3.txt  Democratic     False   \n",
       "1303  1997 Issue 246 December 30 Page 4.txt  Democratic     False   \n",
       "\n",
       "                                             clean_text  \\\n",
       "0      \\t\\t марта  года\\n\\nФУТБОЛ ИГРА БОРЬБА ПРАЗДН...   \n",
       "1     а\\n\\n\\tа\\t\\n\\n\\t\\t\\t\\t Подробности длл\\n\\nСто ...   \n",
       "2     известии \\t \\n\\nСовместное советско малайзийск...   \n",
       "3      ИЗВЕСТИЯ\\t   по странам и континентам\\t\\t \\n\\...   \n",
       "4     ИЗВЕСТИЯ\\n\\n\\tГ О СТРАНАМ ИР НСНТИНЕНТАМ      ...   \n",
       "...                                                 ...   \n",
       "1299   \\nИЗВЕСТИЯ\\n марта  \\t\\nНаш рейтинг\\n  \\n Дач...   \n",
       "1300    \\nИЗВЕСТИЯ\\n января  года \\nВ соответствии с...   \n",
       "1301    \\nИЗВЕСТИЯ\\n марта  года \\n Таблетки\\nБромел...   \n",
       "1302    \\nИЗВЕСТИЯ\\n ноября  года \\n\\n Так считает п...   \n",
       "1303    \\nИЗВЕСТИЯ\\n декабря  года \\nВзятки на дорог...   \n",
       "\n",
       "                                            clean_text2  \\\n",
       "0       марта  годаФУТБОЛ ИГРА БОРЬБА ПРАЗДНИКТУРЕЦК...   \n",
       "1     аа Подробности дллСто пятьдесят переговоров со...   \n",
       "2     известии  Совместное советско малайзийское ком...   \n",
       "3      ИЗВЕСТИЯ   по странам и континентам   марта  ...   \n",
       "4     ИЗВЕСТИЯГ О СТРАНАМ ИР НСНТИНЕНТАМ       марта...   \n",
       "...                                                 ...   \n",
       "1299   ИЗВЕСТИЯ марта  Наш рейтинг   ДачаЭкологическ...   \n",
       "1300    ИЗВЕСТИЯ января  года В соответствии с утвер...   \n",
       "1301    ИЗВЕСТИЯ марта  года  ТаблеткиБромелайнПЦИЫЖ...   \n",
       "1302    ИЗВЕСТИЯ ноября  года  Так считает председат...   \n",
       "1303    ИЗВЕСТИЯ декабря  года Взятки на дорогахИз в...   \n",
       "\n",
       "                                              tokenized  \\\n",
       "0     [марта, годаФУТБОЛ, ИГРА, БОРЬБА, ПРАЗДНИКТУРЕ...   \n",
       "1     [аа, Подробности, дллСто, пятьдесят, переговор...   \n",
       "2     [известии, Совместное, советско, малайзийское,...   \n",
       "3     [ИЗВЕСТИЯ, по, странам, и, континентам, марта,...   \n",
       "4     [ИЗВЕСТИЯГ, О, СТРАНАМ, ИР, НСНТИНЕНТАМ, марта...   \n",
       "...                                                 ...   \n",
       "1299  [ИЗВЕСТИЯ, марта, Наш, рейтинг, ДачаЭкологичес...   \n",
       "1300  [ИЗВЕСТИЯ, января, года, В, соответствии, с, у...   \n",
       "1301  [ИЗВЕСТИЯ, марта, года, ТаблеткиБромелайнПЦИЫЖ...   \n",
       "1302  [ИЗВЕСТИЯ, ноября, года, Так, считает, председ...   \n",
       "1303  [ИЗВЕСТИЯ, декабря, года, Взятки, на, дорогахИ...   \n",
       "\n",
       "                                                 lemmas  \\\n",
       "0     [март, годафутбол, игра, борьба, праздниктурец...   \n",
       "1     [аа, подробность, дллсто, переговоры, состоять...   \n",
       "2     [известия, совместный, советский, малайзийский...   \n",
       "3     [известие, страна, континент, март, год, отзву...   \n",
       "4     [известияг, страна, ир, нснтинент, март, год, ...   \n",
       "...                                                 ...   \n",
       "1299  [известие, март, рейтинг, дачаэкологически, бе...   \n",
       "1300  [известие, январь, год, соответствие, утвердит...   \n",
       "1301  [известие, март, год, таблеткибромелайнпциыжнр...   \n",
       "1302  [известие, ноябрь, год, считать, председатель,...   \n",
       "1303  [известие, декабрь, год, взятка, дорогахиз, во...   \n",
       "\n",
       "                                          lemmas_string  \n",
       "0     март годафутбол игра борьба праздниктурецкий ф...  \n",
       "1     аа подробность дллсто переговоры состояться ив...  \n",
       "2     известия совместный советский малайзийский ком...  \n",
       "3     известие страна континент март год отзвучать п...  \n",
       "4     известияг страна ир нснтинент март год телетай...  \n",
       "...                                                 ...  \n",
       "1299  известие март рейтинг дачаэкологически безупре...  \n",
       "1300  известие январь год соответствие утвердить пол...  \n",
       "1301  известие март год таблеткибромелайнпциыжнр сгн...  \n",
       "1302  известие ноябрь год считать председатель украи...  \n",
       "1303  известие декабрь год взятка дорогахиз волгогра...  \n",
       "\n",
       "[1304 rows x 10 columns]"
      ]
     },
     "execution_count": 8,
     "metadata": {},
     "output_type": "execute_result"
    }
   ],
   "source": [
    "df1"
   ]
  },
  {
   "cell_type": "code",
   "execution_count": 10,
   "metadata": {},
   "outputs": [],
   "source": [
    "df = df1[['text', 'year', 'filename']]"
   ]
  },
  {
   "cell_type": "code",
   "execution_count": 12,
   "metadata": {},
   "outputs": [],
   "source": [
    "def text_cleaner(text):\n",
    "    return re.sub('[^а-яА-Я\\s.,?!]', '', text)"
   ]
  },
  {
   "cell_type": "code",
   "execution_count": 13,
   "metadata": {},
   "outputs": [],
   "source": [
    "def text_cleaner2(text):\n",
    "    clean_text = text.replace(\"\\n\", \"\").replace(\"/t\", \"\").replace(\"\\t\", \"\")\n",
    "    return clean_text"
   ]
  },
  {
   "cell_type": "code",
   "execution_count": 16,
   "metadata": {},
   "outputs": [
    {
     "name": "stderr",
     "output_type": "stream",
     "text": [
      "/opt/anaconda3/lib/python3.7/site-packages/ipykernel_launcher.py:1: SettingWithCopyWarning: \n",
      "A value is trying to be set on a copy of a slice from a DataFrame.\n",
      "Try using .loc[row_indexer,col_indexer] = value instead\n",
      "\n",
      "See the caveats in the documentation: http://pandas.pydata.org/pandas-docs/stable/user_guide/indexing.html#returning-a-view-versus-a-copy\n",
      "  \"\"\"Entry point for launching an IPython kernel.\n"
     ]
    }
   ],
   "source": [
    "df['clean'] = df['text'].apply(text_cleaner)"
   ]
  },
  {
   "cell_type": "code",
   "execution_count": 18,
   "metadata": {},
   "outputs": [
    {
     "name": "stderr",
     "output_type": "stream",
     "text": [
      "/opt/anaconda3/lib/python3.7/site-packages/ipykernel_launcher.py:1: SettingWithCopyWarning: \n",
      "A value is trying to be set on a copy of a slice from a DataFrame.\n",
      "Try using .loc[row_indexer,col_indexer] = value instead\n",
      "\n",
      "See the caveats in the documentation: http://pandas.pydata.org/pandas-docs/stable/user_guide/indexing.html#returning-a-view-versus-a-copy\n",
      "  \"\"\"Entry point for launching an IPython kernel.\n"
     ]
    }
   ],
   "source": [
    "df['clean_2'] = df['clean'].apply(text_cleaner2)"
   ]
  },
  {
   "cell_type": "code",
   "execution_count": 20,
   "metadata": {},
   "outputs": [],
   "source": [
    "import stanza"
   ]
  },
  {
   "cell_type": "code",
   "execution_count": 21,
   "metadata": {},
   "outputs": [
    {
     "name": "stderr",
     "output_type": "stream",
     "text": [
      "Downloading https://raw.githubusercontent.com/stanfordnlp/stanza-resources/master/resources_1.0.0.json: 116kB [00:00, 29.1MB/s]                    \n",
      "2020-05-19 14:48:13 INFO: Downloading default packages for language: ru (Russian)...\n",
      "2020-05-19 14:48:16 INFO: File exists: /Users/Leha/stanza_resources/ru/default.zip.\n",
      "2020-05-19 14:48:23 INFO: Finished downloading models and saved to /Users/Leha/stanza_resources.\n"
     ]
    }
   ],
   "source": [
    "stanza.download('ru')"
   ]
  },
  {
   "cell_type": "code",
   "execution_count": 125,
   "metadata": {},
   "outputs": [],
   "source": [
    "# stop words dont work\n",
    "def sen_token(word_list):\n",
    "    sen = []\n",
    "    doc = nlp(word_list)\n",
    "    for sentence in doc.sentences:\n",
    "            for token in sentence.tokens:\n",
    "                sen.append(token.text)\n",
    "    return sen"
   ]
  },
  {
   "cell_type": "code",
   "execution_count": 26,
   "metadata": {},
   "outputs": [],
   "source": [
    "def sen_tokenize(word_list):\n",
    "    sen = []\n",
    "    doc = nlp(word_list)\n",
    "    for sentence in doc.sentences:\n",
    "        sen.append(sentence.text)\n",
    "    return sen"
   ]
  },
  {
   "cell_type": "code",
   "execution_count": 27,
   "metadata": {},
   "outputs": [],
   "source": [
    "import stanfordnlp\n",
    "from spacy_stanfordnlp import StanfordNLPLanguage\n",
    "import spacy"
   ]
  },
  {
   "cell_type": "code",
   "execution_count": 29,
   "metadata": {},
   "outputs": [
    {
     "name": "stdout",
     "output_type": "stream",
     "text": [
      "Use device: cpu\n",
      "---\n",
      "Loading: tokenize\n",
      "With settings: \n",
      "{'model_path': '/Users/Leha/stanfordnlp_resources/ru_syntagrus_models/ru_syntagrus_tokenizer.pt', 'lang': 'ru', 'shorthand': 'ru_syntagrus', 'mode': 'predict'}\n",
      "---\n",
      "Loading: lemma\n",
      "With settings: \n",
      "{'model_path': '/Users/Leha/stanfordnlp_resources/ru_syntagrus_models/ru_syntagrus_lemmatizer.pt', 'lang': 'ru', 'shorthand': 'ru_syntagrus', 'mode': 'predict'}\n",
      "Building an attentional Seq2Seq model...\n",
      "Using a Bi-LSTM encoder\n",
      "Using soft attention for LSTM.\n",
      "Finetune all embeddings.\n",
      "[Running seq2seq lemmatizer with edit classifier]\n",
      "Done loading processors!\n",
      "---\n"
     ]
    }
   ],
   "source": [
    "snlp = stanfordnlp.Pipeline(lang=\"ru\", processors='tokenize,lemma') \n",
    "nlp = StanfordNLPLanguage(snlp)"
   ]
  },
  {
   "cell_type": "code",
   "execution_count": 30,
   "metadata": {},
   "outputs": [
    {
     "data": {
      "text/plain": [
       "{'а',\n",
       " 'будем',\n",
       " 'будет',\n",
       " 'будете',\n",
       " 'будешь',\n",
       " 'буду',\n",
       " 'будут',\n",
       " 'будучи',\n",
       " 'будь',\n",
       " 'будьте',\n",
       " 'бы',\n",
       " 'был',\n",
       " 'была',\n",
       " 'были',\n",
       " 'было',\n",
       " 'быть',\n",
       " 'в',\n",
       " 'вам',\n",
       " 'вами',\n",
       " 'вас',\n",
       " 'весь',\n",
       " 'во',\n",
       " 'вот',\n",
       " 'все',\n",
       " 'всего',\n",
       " 'всей',\n",
       " 'всем',\n",
       " 'всеми',\n",
       " 'всему',\n",
       " 'всех',\n",
       " 'всею',\n",
       " 'всея',\n",
       " 'всю',\n",
       " 'вся',\n",
       " 'всё',\n",
       " 'всём',\n",
       " 'вы',\n",
       " 'да',\n",
       " 'для',\n",
       " 'до',\n",
       " 'его',\n",
       " 'едим',\n",
       " 'едят',\n",
       " 'ее',\n",
       " 'ей',\n",
       " 'ел',\n",
       " 'ела',\n",
       " 'ем',\n",
       " 'ему',\n",
       " 'емъ',\n",
       " 'если',\n",
       " 'ест',\n",
       " 'есть',\n",
       " 'ешь',\n",
       " 'еще',\n",
       " 'ещё',\n",
       " 'ею',\n",
       " 'её',\n",
       " 'же',\n",
       " 'за',\n",
       " 'и',\n",
       " 'из',\n",
       " 'или',\n",
       " 'им',\n",
       " 'ими',\n",
       " 'имъ',\n",
       " 'их',\n",
       " 'к',\n",
       " 'как',\n",
       " 'кем',\n",
       " 'ко',\n",
       " 'когда',\n",
       " 'кого',\n",
       " 'ком',\n",
       " 'кому',\n",
       " 'комья',\n",
       " 'которая',\n",
       " 'которого',\n",
       " 'которое',\n",
       " 'которой',\n",
       " 'котором',\n",
       " 'которому',\n",
       " 'которою',\n",
       " 'которую',\n",
       " 'которые',\n",
       " 'который',\n",
       " 'которым',\n",
       " 'которыми',\n",
       " 'которых',\n",
       " 'кто',\n",
       " 'меня',\n",
       " 'мне',\n",
       " 'мной',\n",
       " 'мною',\n",
       " 'мог',\n",
       " 'моги',\n",
       " 'могите',\n",
       " 'могла',\n",
       " 'могли',\n",
       " 'могло',\n",
       " 'могу',\n",
       " 'могут',\n",
       " 'мое',\n",
       " 'моего',\n",
       " 'моей',\n",
       " 'моем',\n",
       " 'моему',\n",
       " 'моею',\n",
       " 'можем',\n",
       " 'может',\n",
       " 'можете',\n",
       " 'можешь',\n",
       " 'мои',\n",
       " 'моим',\n",
       " 'моими',\n",
       " 'моих',\n",
       " 'мой',\n",
       " 'мочь',\n",
       " 'мою',\n",
       " 'моя',\n",
       " 'моё',\n",
       " 'моём',\n",
       " 'мы',\n",
       " 'на',\n",
       " 'нам',\n",
       " 'нами',\n",
       " 'нас',\n",
       " 'наса',\n",
       " 'наш',\n",
       " 'наша',\n",
       " 'наше',\n",
       " 'нашего',\n",
       " 'нашей',\n",
       " 'нашем',\n",
       " 'нашему',\n",
       " 'нашею',\n",
       " 'наши',\n",
       " 'нашим',\n",
       " 'нашими',\n",
       " 'наших',\n",
       " 'нашу',\n",
       " 'не',\n",
       " 'него',\n",
       " 'нее',\n",
       " 'ней',\n",
       " 'нем',\n",
       " 'нему',\n",
       " 'нет',\n",
       " 'нею',\n",
       " 'неё',\n",
       " 'ним',\n",
       " 'ними',\n",
       " 'них',\n",
       " 'но',\n",
       " 'нём',\n",
       " 'о',\n",
       " 'об',\n",
       " 'один',\n",
       " 'одна',\n",
       " 'одни',\n",
       " 'одним',\n",
       " 'одними',\n",
       " 'одних',\n",
       " 'одно',\n",
       " 'одного',\n",
       " 'одной',\n",
       " 'одном',\n",
       " 'одному',\n",
       " 'одною',\n",
       " 'одну',\n",
       " 'он',\n",
       " 'она',\n",
       " 'оне',\n",
       " 'они',\n",
       " 'оно',\n",
       " 'от',\n",
       " 'по',\n",
       " 'при',\n",
       " 'с',\n",
       " 'сам',\n",
       " 'сама',\n",
       " 'сами',\n",
       " 'самим',\n",
       " 'самими',\n",
       " 'самих',\n",
       " 'само',\n",
       " 'самого',\n",
       " 'самом',\n",
       " 'самому',\n",
       " 'саму',\n",
       " 'свое',\n",
       " 'своего',\n",
       " 'своей',\n",
       " 'своем',\n",
       " 'своему',\n",
       " 'своею',\n",
       " 'свои',\n",
       " 'своим',\n",
       " 'своими',\n",
       " 'своих',\n",
       " 'свой',\n",
       " 'свою',\n",
       " 'своя',\n",
       " 'своё',\n",
       " 'своём',\n",
       " 'себе',\n",
       " 'себя',\n",
       " 'собой',\n",
       " 'собою',\n",
       " 'та',\n",
       " 'так',\n",
       " 'такая',\n",
       " 'такие',\n",
       " 'таким',\n",
       " 'такими',\n",
       " 'таких',\n",
       " 'такого',\n",
       " 'такое',\n",
       " 'такой',\n",
       " 'таком',\n",
       " 'такому',\n",
       " 'такою',\n",
       " 'такую',\n",
       " 'те',\n",
       " 'тебе',\n",
       " 'тебя',\n",
       " 'тем',\n",
       " 'теми',\n",
       " 'тех',\n",
       " 'то',\n",
       " 'тобой',\n",
       " 'тобою',\n",
       " 'того',\n",
       " 'той',\n",
       " 'только',\n",
       " 'том',\n",
       " 'томах',\n",
       " 'тому',\n",
       " 'тот',\n",
       " 'тою',\n",
       " 'ту',\n",
       " 'ты',\n",
       " 'у',\n",
       " 'уже',\n",
       " 'чего',\n",
       " 'чем',\n",
       " 'чему',\n",
       " 'что',\n",
       " 'чтобы',\n",
       " 'чём',\n",
       " 'эта',\n",
       " 'эти',\n",
       " 'этим',\n",
       " 'этими',\n",
       " 'этих',\n",
       " 'это',\n",
       " 'этого',\n",
       " 'этой',\n",
       " 'этом',\n",
       " 'этому',\n",
       " 'этот',\n",
       " 'этою',\n",
       " 'эту',\n",
       " 'я'}"
      ]
     },
     "execution_count": 30,
     "metadata": {},
     "output_type": "execute_result"
    }
   ],
   "source": [
    "nlp.Defaults.stop_words"
   ]
  },
  {
   "cell_type": "code",
   "execution_count": 31,
   "metadata": {},
   "outputs": [],
   "source": [
    "stop_words = nlp.Defaults.stop_words"
   ]
  },
  {
   "cell_type": "code",
   "execution_count": 32,
   "metadata": {},
   "outputs": [],
   "source": [
    "stop_words |= {'б', 'в', 'г', 'д', 'е', 'ж', 'з', 'и', 'к', 'л', 'м', 'н', 'о', 'п', 'р', 'с', 'т', 'у', 'ф', 'х', \n",
    "               'ц', 'ч', 'ш', 'э', 'ю',}"
   ]
  },
  {
   "cell_type": "code",
   "execution_count": 33,
   "metadata": {},
   "outputs": [
    {
     "data": {
      "text/plain": [
       "283"
      ]
     },
     "execution_count": 33,
     "metadata": {},
     "output_type": "execute_result"
    }
   ],
   "source": [
    "len(stop_words)"
   ]
  },
  {
   "cell_type": "code",
   "execution_count": 35,
   "metadata": {},
   "outputs": [
    {
     "name": "stderr",
     "output_type": "stream",
     "text": [
      "2020-05-19 14:52:02 INFO: Loading these models for language: ru (Russian):\n",
      "=========================\n",
      "| Processor | Package   |\n",
      "-------------------------\n",
      "| tokenize  | syntagrus |\n",
      "=========================\n",
      "\n",
      "2020-05-19 14:52:02 INFO: Use device: cpu\n",
      "2020-05-19 14:52:02 INFO: Loading: tokenize\n",
      "2020-05-19 14:52:02 INFO: Done loading processors!\n"
     ]
    }
   ],
   "source": [
    "nlp = stanza.Pipeline('ru', processors = 'tokenize')"
   ]
  },
  {
   "cell_type": "code",
   "execution_count": 39,
   "metadata": {},
   "outputs": [
    {
     "name": "stderr",
     "output_type": "stream",
     "text": [
      "/opt/anaconda3/lib/python3.7/site-packages/ipykernel_launcher.py:1: SettingWithCopyWarning: \n",
      "A value is trying to be set on a copy of a slice from a DataFrame.\n",
      "Try using .loc[row_indexer,col_indexer] = value instead\n",
      "\n",
      "See the caveats in the documentation: http://pandas.pydata.org/pandas-docs/stable/user_guide/indexing.html#returning-a-view-versus-a-copy\n",
      "  \"\"\"Entry point for launching an IPython kernel.\n"
     ]
    }
   ],
   "source": [
    "df['sent_tokens'] = df['clean_2'].apply(lambda x: [sen_token_tokenize(s) for s in sen_tokenize(x)])"
   ]
  },
  {
   "cell_type": "code",
   "execution_count": 40,
   "metadata": {},
   "outputs": [
    {
     "data": {
      "text/html": [
       "<div>\n",
       "<style scoped>\n",
       "    .dataframe tbody tr th:only-of-type {\n",
       "        vertical-align: middle;\n",
       "    }\n",
       "\n",
       "    .dataframe tbody tr th {\n",
       "        vertical-align: top;\n",
       "    }\n",
       "\n",
       "    .dataframe thead th {\n",
       "        text-align: right;\n",
       "    }\n",
       "</style>\n",
       "<table border=\"1\" class=\"dataframe\">\n",
       "  <thead>\n",
       "    <tr style=\"text-align: right;\">\n",
       "      <th></th>\n",
       "      <th>text</th>\n",
       "      <th>year</th>\n",
       "      <th>filename</th>\n",
       "      <th>clean</th>\n",
       "      <th>clean_2</th>\n",
       "      <th>sent_tokens</th>\n",
       "    </tr>\n",
       "  </thead>\n",
       "  <tbody>\n",
       "    <tr>\n",
       "      <td>0</td>\n",
       "      <td>№ 79\\t•\\t19 марта 1987 года\\n\\nФУТБОЛ: ИГРА, Б...</td>\n",
       "      <td>1987</td>\n",
       "      <td>1987 Issue 79 Page 6.txt</td>\n",
       "      <td>\\t\\t марта  года\\n\\nФУТБОЛ ИГРА, БОРЬБА,, ПРА...</td>\n",
       "      <td>марта  годаФУТБОЛ ИГРА, БОРЬБА,, ПРАЗДНИКТУР...</td>\n",
       "      <td>[[марта, годаФУТБОЛ, ИГРА, ,, БОРЬБА, ,, ,, ПР...</td>\n",
       "    </tr>\n",
       "    <tr>\n",
       "      <td>1</td>\n",
       "      <td>а.'\\n\\n\\t'а'\\t'\\n\\n\\t\\t\\t\\t Подробности длл\\n\\...</td>\n",
       "      <td>1987</td>\n",
       "      <td>1987 Issue 219 Page 6.txt</td>\n",
       "      <td>а.\\n\\n\\tа\\t\\n\\n\\t\\t\\t\\t Подробности длл\\n\\nСто...</td>\n",
       "      <td>а.а Подробности дллСто пятьдесят переговоров с...</td>\n",
       "      <td>[[а.а], [Подробности, дллСто, пятьдесят, перег...</td>\n",
       "    </tr>\n",
       "    <tr>\n",
       "      <td>2</td>\n",
       "      <td>известии \\t ...\\n\\nСовместное советско- малайз...</td>\n",
       "      <td>1987</td>\n",
       "      <td>1987 Issue 219 Page 4.txt</td>\n",
       "      <td>известии \\t ...\\n\\nСовместное советско малайзи...</td>\n",
       "      <td>известии  ...Совместное советско малайзийское ...</td>\n",
       "      <td>[[известии, ., ., ., Совместное, советско, мал...</td>\n",
       "    </tr>\n",
       "    <tr>\n",
       "      <td>3</td>\n",
       "      <td>’ ИЗВЕСТИЯ\\t■ - ■ по странам и континентам\\t\\t...</td>\n",
       "      <td>1987</td>\n",
       "      <td>1987 Issue 79 Page 5.txt</td>\n",
       "      <td>ИЗВЕСТИЯ\\t   по странам и континентам\\t\\t \\n\\...</td>\n",
       "      <td>ИЗВЕСТИЯ   по странам и континентам   марта  ...</td>\n",
       "      <td>[[ИЗВЕСТИЯ, по, странам, и, континентам, марта...</td>\n",
       "    </tr>\n",
       "    <tr>\n",
       "      <td>4</td>\n",
       "      <td>ИЗВЕСТИЯ\\n\\n\\tГ! О СТРАНАМ ИР НСНТИНЕНТАМ —— 2...</td>\n",
       "      <td>1987</td>\n",
       "      <td>1987 Issue 79 Page 4.txt</td>\n",
       "      <td>ИЗВЕСТИЯ\\n\\n\\tГ! О СТРАНАМ ИР НСНТИНЕНТАМ  .  ...</td>\n",
       "      <td>ИЗВЕСТИЯГ! О СТРАНАМ ИР НСНТИНЕНТАМ  .     мар...</td>\n",
       "      <td>[[ИЗВЕСТИЯГ, !], [О, СТРАНАМ, ИР, НСНТИНЕНТАМ,...</td>\n",
       "    </tr>\n",
       "    <tr>\n",
       "      <td>...</td>\n",
       "      <td>...</td>\n",
       "      <td>...</td>\n",
       "      <td>...</td>\n",
       "      <td>...</td>\n",
       "      <td>...</td>\n",
       "      <td>...</td>\n",
       "    </tr>\n",
       "    <tr>\n",
       "      <td>1299</td>\n",
       "      <td>﻿№56 •\\nИЗВЕСТИЯ\\n26 марта 1°|&gt;7 ’&lt;&gt;'&lt;\\t•\\nНаш...</td>\n",
       "      <td>1997</td>\n",
       "      <td>1997 Issue 56 March 26 Page 6.txt</td>\n",
       "      <td>\\nИЗВЕСТИЯ\\n марта  \\t\\nНаш рейтинг\\n  \\n Дач...</td>\n",
       "      <td>ИЗВЕСТИЯ марта  Наш рейтинг   ДачаЭкологическ...</td>\n",
       "      <td>[[ИЗВЕСТИЯ, марта, Наш, рейтинг, ДачаЭкологиче...</td>\n",
       "    </tr>\n",
       "    <tr>\n",
       "      <td>1300</td>\n",
       "      <td>﻿№ 18 3\\nИЗВЕСТИЯ\\n30 января 1997 года •\\nВ со...</td>\n",
       "      <td>1997</td>\n",
       "      <td>1997 Issue 18 January 30 Page 6.txt</td>\n",
       "      <td>\\nИЗВЕСТИЯ\\n января  года \\nВ соответствии с...</td>\n",
       "      <td>ИЗВЕСТИЯ января  года В соответствии с утвер...</td>\n",
       "      <td>[[ИЗВЕСТИЯ, января, года, В, соответствии, с, ...</td>\n",
       "    </tr>\n",
       "    <tr>\n",
       "      <td>1301</td>\n",
       "      <td>﻿№ 56 •\\nИЗВЕСТИЯ\\n26 марта 1997 года •\\n' Таб...</td>\n",
       "      <td>1997</td>\n",
       "      <td>1997 Issue 56 March 26 Page 7.txt</td>\n",
       "      <td>\\nИЗВЕСТИЯ\\n марта  года \\n Таблетки\\nБромел...</td>\n",
       "      <td>ИЗВЕСТИЯ марта  года  ТаблеткиБромелайнПЦИЫЖ...</td>\n",
       "      <td>[[ИЗВЕСТИЯ, марта, года, ТаблеткиБромелайнПЦИЫ...</td>\n",
       "    </tr>\n",
       "    <tr>\n",
       "      <td>1302</td>\n",
       "      <td>﻿№ 227 •\\nИЗВЕСТИЯ\\n29 ноября 1997 года •\\n3\\n...</td>\n",
       "      <td>1997</td>\n",
       "      <td>1997 Issue 227 November 29 Page 3.txt</td>\n",
       "      <td>\\nИЗВЕСТИЯ\\n ноября  года \\n\\n Так считает п...</td>\n",
       "      <td>ИЗВЕСТИЯ ноября  года  Так считает председат...</td>\n",
       "      <td>[[ИЗВЕСТИЯ, ноября, года, Так, считает, предсе...</td>\n",
       "    </tr>\n",
       "    <tr>\n",
       "      <td>1303</td>\n",
       "      <td>﻿№ 246 •\\nИЗВЕСТИЯ\\n30 декабря 1997 года •\\nВз...</td>\n",
       "      <td>1997</td>\n",
       "      <td>1997 Issue 246 December 30 Page 4.txt</td>\n",
       "      <td>\\nИЗВЕСТИЯ\\n декабря  года \\nВзятки на дорог...</td>\n",
       "      <td>ИЗВЕСТИЯ декабря  года Взятки на дорогахИз в...</td>\n",
       "      <td>[[ИЗВЕСТИЯ, декабря, года, Взятки, на, дорогах...</td>\n",
       "    </tr>\n",
       "  </tbody>\n",
       "</table>\n",
       "<p>1304 rows × 6 columns</p>\n",
       "</div>"
      ],
      "text/plain": [
       "                                                   text  year  \\\n",
       "0     № 79\\t•\\t19 марта 1987 года\\n\\nФУТБОЛ: ИГРА, Б...  1987   \n",
       "1     а.'\\n\\n\\t'а'\\t'\\n\\n\\t\\t\\t\\t Подробности длл\\n\\...  1987   \n",
       "2     известии \\t ...\\n\\nСовместное советско- малайз...  1987   \n",
       "3     ’ ИЗВЕСТИЯ\\t■ - ■ по странам и континентам\\t\\t...  1987   \n",
       "4     ИЗВЕСТИЯ\\n\\n\\tГ! О СТРАНАМ ИР НСНТИНЕНТАМ —— 2...  1987   \n",
       "...                                                 ...   ...   \n",
       "1299  ﻿№56 •\\nИЗВЕСТИЯ\\n26 марта 1°|>7 ’<>'<\\t•\\nНаш...  1997   \n",
       "1300  ﻿№ 18 3\\nИЗВЕСТИЯ\\n30 января 1997 года •\\nВ со...  1997   \n",
       "1301  ﻿№ 56 •\\nИЗВЕСТИЯ\\n26 марта 1997 года •\\n' Таб...  1997   \n",
       "1302  ﻿№ 227 •\\nИЗВЕСТИЯ\\n29 ноября 1997 года •\\n3\\n...  1997   \n",
       "1303  ﻿№ 246 •\\nИЗВЕСТИЯ\\n30 декабря 1997 года •\\nВз...  1997   \n",
       "\n",
       "                                   filename  \\\n",
       "0                  1987 Issue 79 Page 6.txt   \n",
       "1                 1987 Issue 219 Page 6.txt   \n",
       "2                 1987 Issue 219 Page 4.txt   \n",
       "3                  1987 Issue 79 Page 5.txt   \n",
       "4                  1987 Issue 79 Page 4.txt   \n",
       "...                                     ...   \n",
       "1299      1997 Issue 56 March 26 Page 6.txt   \n",
       "1300    1997 Issue 18 January 30 Page 6.txt   \n",
       "1301      1997 Issue 56 March 26 Page 7.txt   \n",
       "1302  1997 Issue 227 November 29 Page 3.txt   \n",
       "1303  1997 Issue 246 December 30 Page 4.txt   \n",
       "\n",
       "                                                  clean  \\\n",
       "0      \\t\\t марта  года\\n\\nФУТБОЛ ИГРА, БОРЬБА,, ПРА...   \n",
       "1     а.\\n\\n\\tа\\t\\n\\n\\t\\t\\t\\t Подробности длл\\n\\nСто...   \n",
       "2     известии \\t ...\\n\\nСовместное советско малайзи...   \n",
       "3      ИЗВЕСТИЯ\\t   по странам и континентам\\t\\t \\n\\...   \n",
       "4     ИЗВЕСТИЯ\\n\\n\\tГ! О СТРАНАМ ИР НСНТИНЕНТАМ  .  ...   \n",
       "...                                                 ...   \n",
       "1299   \\nИЗВЕСТИЯ\\n марта  \\t\\nНаш рейтинг\\n  \\n Дач...   \n",
       "1300    \\nИЗВЕСТИЯ\\n января  года \\nВ соответствии с...   \n",
       "1301    \\nИЗВЕСТИЯ\\n марта  года \\n Таблетки\\nБромел...   \n",
       "1302    \\nИЗВЕСТИЯ\\n ноября  года \\n\\n Так считает п...   \n",
       "1303    \\nИЗВЕСТИЯ\\n декабря  года \\nВзятки на дорог...   \n",
       "\n",
       "                                                clean_2  \\\n",
       "0       марта  годаФУТБОЛ ИГРА, БОРЬБА,, ПРАЗДНИКТУР...   \n",
       "1     а.а Подробности дллСто пятьдесят переговоров с...   \n",
       "2     известии  ...Совместное советско малайзийское ...   \n",
       "3      ИЗВЕСТИЯ   по странам и континентам   марта  ...   \n",
       "4     ИЗВЕСТИЯГ! О СТРАНАМ ИР НСНТИНЕНТАМ  .     мар...   \n",
       "...                                                 ...   \n",
       "1299   ИЗВЕСТИЯ марта  Наш рейтинг   ДачаЭкологическ...   \n",
       "1300    ИЗВЕСТИЯ января  года В соответствии с утвер...   \n",
       "1301    ИЗВЕСТИЯ марта  года  ТаблеткиБромелайнПЦИЫЖ...   \n",
       "1302    ИЗВЕСТИЯ ноября  года  Так считает председат...   \n",
       "1303    ИЗВЕСТИЯ декабря  года Взятки на дорогахИз в...   \n",
       "\n",
       "                                            sent_tokens  \n",
       "0     [[марта, годаФУТБОЛ, ИГРА, ,, БОРЬБА, ,, ,, ПР...  \n",
       "1     [[а.а], [Подробности, дллСто, пятьдесят, перег...  \n",
       "2     [[известии, ., ., ., Совместное, советско, мал...  \n",
       "3     [[ИЗВЕСТИЯ, по, странам, и, континентам, марта...  \n",
       "4     [[ИЗВЕСТИЯГ, !], [О, СТРАНАМ, ИР, НСНТИНЕНТАМ,...  \n",
       "...                                                 ...  \n",
       "1299  [[ИЗВЕСТИЯ, марта, Наш, рейтинг, ДачаЭкологиче...  \n",
       "1300  [[ИЗВЕСТИЯ, января, года, В, соответствии, с, ...  \n",
       "1301  [[ИЗВЕСТИЯ, марта, года, ТаблеткиБромелайнПЦИЫ...  \n",
       "1302  [[ИЗВЕСТИЯ, ноября, года, Так, считает, предсе...  \n",
       "1303  [[ИЗВЕСТИЯ, декабря, года, Взятки, на, дорогах...  \n",
       "\n",
       "[1304 rows x 6 columns]"
      ]
     },
     "execution_count": 40,
     "metadata": {},
     "output_type": "execute_result"
    }
   ],
   "source": [
    "df"
   ]
  },
  {
   "cell_type": "code",
   "execution_count": 41,
   "metadata": {},
   "outputs": [],
   "source": [
    "export_json = df.to_json('izvestiia_sent_tokens.json')"
   ]
  },
  {
   "cell_type": "code",
   "execution_count": 42,
   "metadata": {},
   "outputs": [],
   "source": [
    "export_csv = df.to_csv('izvestiia_sent_tokens.csv')"
   ]
  },
  {
   "cell_type": "markdown",
   "metadata": {},
   "source": [
    "# Word2Vec"
   ]
  },
  {
   "cell_type": "code",
   "execution_count": 45,
   "metadata": {},
   "outputs": [],
   "source": [
    "izvestiiaW2V = gensim.models.word2vec.Word2Vec(df['sent_tokens'].sum())"
   ]
  },
  {
   "cell_type": "code",
   "execution_count": 46,
   "metadata": {},
   "outputs": [
    {
     "data": {
      "text/plain": [
       "array([ 0.0124428 , -0.05012865, -0.04389233,  0.04820009,  0.04218102,\n",
       "        0.07006496,  0.0022121 , -0.01506195, -0.04951769,  0.05339473],\n",
       "      dtype=float32)"
      ]
     },
     "execution_count": 46,
     "metadata": {},
     "output_type": "execute_result"
    }
   ],
   "source": [
    "izvestiiaW2V['ссср'][:10]"
   ]
  },
  {
   "cell_type": "code",
   "execution_count": 47,
   "metadata": {},
   "outputs": [
    {
     "data": {
      "text/plain": [
       "[('народный', 0.9245763421058655),\n",
       " ('профессор', 0.9021775126457214),\n",
       " ('академик', 0.9001409411430359),\n",
       " ('старший', 0.8989189267158508),\n",
       " ('Виктор', 0.8965216875076294),\n",
       " ('артист', 0.89382404088974),\n",
       " ('депутата', 0.8922584056854248),\n",
       " ('Андрей', 0.8920473456382751),\n",
       " ('Михайлов', 0.889057993888855),\n",
       " ('Ф.', 0.8887590169906616)]"
      ]
     },
     "execution_count": 47,
     "metadata": {},
     "output_type": "execute_result"
    }
   ],
   "source": [
    "izvestiiaW2V.most_similar('депутат')"
   ]
  },
  {
   "cell_type": "code",
   "execution_count": 48,
   "metadata": {},
   "outputs": [
    {
     "data": {
      "text/plain": [
       "[('Министерством', 0.8991108536720276),\n",
       " ('братского', 0.8930282592773438),\n",
       " ('Силами', 0.8866400122642517),\n",
       " ('Кубы', 0.8860230445861816),\n",
       " ('Вооруженными', 0.8806061744689941),\n",
       " ('Европейского', 0.8783504962921143),\n",
       " ('Литвы', 0.8768715858459473),\n",
       " ('ассоциации', 0.8761379718780518),\n",
       " ('Демократической', 0.8761025667190552),\n",
       " ('Североатлантического', 0.8754379749298096)]"
      ]
     },
     "execution_count": 48,
     "metadata": {},
     "output_type": "execute_result"
    }
   ],
   "source": [
    "izvestiiaW2V.most_similar('союз')"
   ]
  },
  {
   "cell_type": "code",
   "execution_count": 55,
   "metadata": {},
   "outputs": [
    {
     "data": {
      "text/plain": [
       "[('Банк', 0.7881683111190796),\n",
       " ('коммерческий', 0.7626004815101624),\n",
       " ('государственный', 0.7358527779579163),\n",
       " ('акционерный', 0.7345622181892395),\n",
       " ('Российский', 0.7340372800827026),\n",
       " ('кредит', 0.7320775985717773),\n",
       " ('фонд', 0.7159553170204163),\n",
       " ('национальный', 0.7157984972000122),\n",
       " ('банка', 0.7154874801635742),\n",
       " ('Центральный', 0.7101889848709106)]"
      ]
     },
     "execution_count": 55,
     "metadata": {},
     "output_type": "execute_result"
    }
   ],
   "source": [
    "izvestiiaW2V.most_similar('банк')"
   ]
  },
  {
   "cell_type": "code",
   "execution_count": 49,
   "metadata": {},
   "outputs": [],
   "source": [
    "numWords = 50\n",
    "targetWords = izvestiiaW2V.wv.index2word[:numWords]"
   ]
  },
  {
   "cell_type": "code",
   "execution_count": 50,
   "metadata": {},
   "outputs": [
    {
     "data": {
      "text/plain": [
       "array([[-0.11543918, -1.0884497 , -0.60553014, ...,  1.2137176 ,\n",
       "         0.6482143 , -0.3660888 ],\n",
       "       [-0.7779195 , -1.2598478 , -0.02988439, ...,  0.45737487,\n",
       "         0.190256  , -1.3763638 ],\n",
       "       [ 0.83155036,  0.20782451, -0.618364  , ...,  0.25731498,\n",
       "        -0.49746615, -0.5578881 ],\n",
       "       ...,\n",
       "       [-0.26419565, -1.3159727 , -0.7673314 , ...,  3.6896143 ,\n",
       "        -0.25318944, -1.4831132 ],\n",
       "       [ 4.3856325 ,  0.36590046, -0.50768113, ...,  0.52675796,\n",
       "        -0.01624961,  0.7990094 ],\n",
       "       [ 1.533297  , -1.4345372 , -0.7944282 , ...,  0.22175778,\n",
       "         0.22749878, -0.6960961 ]], dtype=float32)"
      ]
     },
     "execution_count": 50,
     "metadata": {},
     "output_type": "execute_result"
    }
   ],
   "source": [
    "wordsSubMatrix = []\n",
    "for word in targetWords:\n",
    "    wordsSubMatrix.append(izvestiiaW2V[word])\n",
    "wordsSubMatrix = np.array(wordsSubMatrix)\n",
    "wordsSubMatrix"
   ]
  },
  {
   "cell_type": "code",
   "execution_count": 51,
   "metadata": {},
   "outputs": [],
   "source": [
    "pcaWords = sklearn.decomposition.PCA(n_components = 50).fit(wordsSubMatrix)\n",
    "reducedPCA_data = pcaWords.transform(wordsSubMatrix)\n",
    "#T-SNE is theoretically better, but you should experiment\n",
    "tsneWords = sklearn.manifold.TSNE(n_components = 2).fit_transform(reducedPCA_data)"
   ]
  },
  {
   "cell_type": "code",
   "execution_count": 52,
   "metadata": {},
   "outputs": [
    {
     "data": {
      "image/png": "[encoded data removed]",
      "text/plain": [
       "<Figure size 720x432 with 1 Axes>"
      ]
     },
     "metadata": {},
     "output_type": "display_data"
    }
   ],
   "source": [
    "fig = plt.figure(figsize = (10,6))\n",
    "ax = fig.add_subplot(111)\n",
    "ax.set_frame_on(False)\n",
    "plt.scatter(tsneWords[:, 0], tsneWords[:, 1], alpha = 0)#Making the points invisible \n",
    "for i, word in enumerate(targetWords):\n",
    "    ax.annotate(word, (tsneWords[:, 0][i],tsneWords[:, 1][i]), size =  20 * (numWords - i) / numWords)\n",
    "plt.xticks(())\n",
    "plt.yticks(())\n",
    "plt.show()"
   ]
  },
  {
   "cell_type": "code",
   "execution_count": 166,
   "metadata": {},
   "outputs": [],
   "source": [
    "targetWords = izvestiiaW2V.wv.index2word[100:200]"
   ]
  },
  {
   "cell_type": "code",
   "execution_count": 170,
   "metadata": {},
   "outputs": [
    {
     "data": {
      "text/plain": [
       "array([[-0.13832447, -1.3124536 , -0.95232266, ..., -1.0895823 ,\n",
       "         0.6756284 , -2.5550368 ],\n",
       "       [ 1.9324243 , -0.05268153, -0.8995187 , ...,  0.49310702,\n",
       "        -0.17673565,  0.13981001],\n",
       "       [ 0.49879965,  1.1358192 ,  1.256653  , ...,  0.7533142 ,\n",
       "        -0.60027796, -0.5751293 ],\n",
       "       ...,\n",
       "       [ 1.6126277 , -2.5244584 , -1.1180469 , ...,  0.09373738,\n",
       "        -0.8403382 , -3.5318925 ],\n",
       "       [-0.19214056, -0.7361116 ,  0.07689981, ...,  1.5338025 ,\n",
       "         1.3283285 ,  0.5039806 ],\n",
       "       [ 0.5753758 ,  0.2824405 , -0.38621646, ..., -0.4750067 ,\n",
       "         0.20913018,  0.10772103]], dtype=float32)"
      ]
     },
     "execution_count": 170,
     "metadata": {},
     "output_type": "execute_result"
    }
   ],
   "source": [
    "wordsSubMatrix = []\n",
    "for word in targetWords:\n",
    "    wordsSubMatrix.append(izvestiiaW2V[word])\n",
    "wordsSubMatrix = np.array(wordsSubMatrix)\n",
    "wordsSubMatrix"
   ]
  },
  {
   "cell_type": "code",
   "execution_count": 171,
   "metadata": {},
   "outputs": [],
   "source": [
    "pcaWords = sklearn.decomposition.PCA(n_components = 50).fit(wordsSubMatrix)\n",
    "reducedPCA_data = pcaWords.transform(wordsSubMatrix)\n",
    "#T-SNE is theoretically better, but you should experiment\n",
    "tsneWords = sklearn.manifold.TSNE(n_components = 2).fit_transform(reducedPCA_data)"
   ]
  },
  {
   "cell_type": "code",
   "execution_count": 172,
   "metadata": {},
   "outputs": [
    {
     "data": {
      "image/png": "[encoded data removed]",
      "text/plain": [
       "<Figure size 720x432 with 1 Axes>"
      ]
     },
     "metadata": {},
     "output_type": "display_data"
    }
   ],
   "source": [
    "fig = plt.figure(figsize = (10,6))\n",
    "ax = fig.add_subplot(111)\n",
    "ax.set_frame_on(False)\n",
    "plt.scatter(tsneWords[:, 0], tsneWords[:, 1], alpha = 0)#Making the points invisible \n",
    "for i, word in enumerate(targetWords):\n",
    "    ax.annotate(word, (tsneWords[:, 0][i],tsneWords[:, 1][i]), size =  20 * (numWords - i) / numWords)\n",
    "plt.xticks(())\n",
    "plt.yticks(())\n",
    "plt.show()"
   ]
  },
  {
   "cell_type": "code",
   "execution_count": 281,
   "metadata": {},
   "outputs": [],
   "source": [
    "numWords = 50\n",
    "targetWords = izvestiiaW2V.wv.index2word[:numWords]"
   ]
  },
  {
   "cell_type": "code",
   "execution_count": 282,
   "metadata": {},
   "outputs": [],
   "source": [
    "wordsSubMatrix = []\n",
    "for word in targetWords:\n",
    "    wordsSubMatrix.append(izvestiiaW2V[word])\n",
    "wordsSubMatrix = np.array(wordsSubMatrix)"
   ]
  },
  {
   "cell_type": "code",
   "execution_count": 286,
   "metadata": {},
   "outputs": [],
   "source": [
    "pcaWords = sklearn.decomposition.PCA(n_components = 50).fit(wordsSubMatrix)\n",
    "reducedPCA_data = pcaWords.transform(wordsSubMatrix)\n",
    "#T-SNE is theoretically better, but you should experiment\n",
    "IsoWords = sklearn.manifold.Isomap(n_components = 2).fit_transform(reducedPCA_data)"
   ]
  },
  {
   "cell_type": "code",
   "execution_count": 287,
   "metadata": {},
   "outputs": [
    {
     "data": {
      "image/png": "[encoded data removed]",
      "text/plain": [
       "<Figure size 720x432 with 1 Axes>"
      ]
     },
     "metadata": {},
     "output_type": "display_data"
    }
   ],
   "source": [
    "fig = plt.figure(figsize = (10,6))\n",
    "ax = fig.add_subplot(111)\n",
    "ax.set_frame_on(False)\n",
    "plt.scatter(IsoWords[:, 0], IsoWords[:, 1], alpha = 0)#Making the points invisible \n",
    "for i, word in enumerate(targetWords):\n",
    "    ax.annotate(word, (IsoWords[:, 0][i],IsoWords[:, 1][i]), size =  20 * (numWords - i) / numWords)\n",
    "plt.xticks(())\n",
    "plt.yticks(())\n",
    "plt.show()"
   ]
  },
  {
   "cell_type": "code",
   "execution_count": 288,
   "metadata": {},
   "outputs": [],
   "source": [
    "targetWords = izvestiiaW2V.wv.index2word[100:200]"
   ]
  },
  {
   "cell_type": "code",
   "execution_count": 289,
   "metadata": {},
   "outputs": [],
   "source": [
    "wordsSubMatrix = []\n",
    "for word in targetWords:\n",
    "    wordsSubMatrix.append(izvestiiaW2V[word])\n",
    "wordsSubMatrix = np.array(wordsSubMatrix)"
   ]
  },
  {
   "cell_type": "code",
   "execution_count": 290,
   "metadata": {},
   "outputs": [],
   "source": [
    "pcaWords = sklearn.decomposition.PCA(n_components = 50).fit(wordsSubMatrix)\n",
    "reducedPCA_data = pcaWords.transform(wordsSubMatrix)\n",
    "#T-SNE is theoretically better, but you should experiment\n",
    "IsoWords = sklearn.manifold.Isomap(n_components = 2).fit_transform(reducedPCA_data)"
   ]
  },
  {
   "cell_type": "code",
   "execution_count": 291,
   "metadata": {},
   "outputs": [
    {
     "data": {
      "image/png": "[encoded data removed]",
      "text/plain": [
       "<Figure size 720x432 with 1 Axes>"
      ]
     },
     "metadata": {},
     "output_type": "display_data"
    }
   ],
   "source": [
    "fig = plt.figure(figsize = (10,6))\n",
    "ax = fig.add_subplot(111)\n",
    "ax.set_frame_on(False)\n",
    "plt.scatter(IsoWords[:, 0], IsoWords[:, 1], alpha = 0)#Making the points invisible \n",
    "for i, word in enumerate(targetWords):\n",
    "    ax.annotate(word, (IsoWords[:, 0][i],IsoWords[:, 1][i]), size =  20 * (numWords - i) / numWords)\n",
    "plt.xticks(())\n",
    "plt.yticks(())\n",
    "plt.show()"
   ]
  },
  {
   "cell_type": "code",
   "execution_count": 294,
   "metadata": {},
   "outputs": [],
   "source": [
    "targetWords = izvestiiaW2V.wv.index2word[100:200]"
   ]
  },
  {
   "cell_type": "code",
   "execution_count": 295,
   "metadata": {},
   "outputs": [],
   "source": [
    "wordsSubMatrix = []\n",
    "for word in targetWords:\n",
    "    wordsSubMatrix.append(izvestiiaW2V[word])\n",
    "wordsSubMatrix = np.array(wordsSubMatrix)"
   ]
  },
  {
   "cell_type": "code",
   "execution_count": 296,
   "metadata": {},
   "outputs": [],
   "source": [
    "pcaWords = sklearn.decomposition.PCA(n_components = 50).fit(wordsSubMatrix)\n",
    "reducedPCA_data = pcaWords.transform(wordsSubMatrix)\n",
    "#T-SNE is theoretically better, but you should experiment\n",
    "LLEWords = sklearn.manifold.LocallyLinearEmbedding(n_components = 2).fit_transform(reducedPCA_data)"
   ]
  },
  {
   "cell_type": "code",
   "execution_count": 297,
   "metadata": {},
   "outputs": [
    {
     "data": {
      "image/png": "[encoded data removed]",
      "text/plain": [
       "<Figure size 720x432 with 1 Axes>"
      ]
     },
     "metadata": {},
     "output_type": "display_data"
    }
   ],
   "source": [
    "fig = plt.figure(figsize = (10,6))\n",
    "ax = fig.add_subplot(111)\n",
    "ax.set_frame_on(False)\n",
    "plt.scatter(LLEWords[:, 0], LLEWords[:, 1], alpha = 0)#Making the points invisible \n",
    "for i, word in enumerate(targetWords):\n",
    "    ax.annotate(word, (LLEWords[:, 0][i],LLEWords[:, 1][i]), size =  20 * (numWords - i) / numWords)\n",
    "plt.xticks(())\n",
    "plt.yticks(())\n",
    "plt.show()"
   ]
  },
  {
   "cell_type": "code",
   "execution_count": 298,
   "metadata": {},
   "outputs": [],
   "source": [
    "pcaWords = sklearn.decomposition.PCA(n_components = 50).fit(wordsSubMatrix)\n",
    "reducedPCA_data = pcaWords.transform(wordsSubMatrix)\n",
    "#T-SNE is theoretically better, but you should experiment\n",
    "MDSWords = sklearn.manifold.MDS(n_components = 2).fit_transform(reducedPCA_data)"
   ]
  },
  {
   "cell_type": "code",
   "execution_count": 299,
   "metadata": {},
   "outputs": [
    {
     "data": {
      "image/png": "[encoded data removed]",
      "text/plain": [
       "<Figure size 720x432 with 1 Axes>"
      ]
     },
     "metadata": {},
     "output_type": "display_data"
    }
   ],
   "source": [
    "fig = plt.figure(figsize = (10,6))\n",
    "ax = fig.add_subplot(111)\n",
    "ax.set_frame_on(False)\n",
    "plt.scatter(MDSWords[:, 0], MDSWords[:, 1], alpha = 0)#Making the points invisible \n",
    "for i, word in enumerate(targetWords):\n",
    "    ax.annotate(word, (MDSWords[:, 0][i],MDSWords[:, 1][i]), size =  20 * (numWords - i) / numWords)\n",
    "plt.xticks(())\n",
    "plt.yticks(())\n",
    "plt.show()"
   ]
  },
  {
   "cell_type": "code",
   "execution_count": 57,
   "metadata": {},
   "outputs": [
    {
     "data": {
      "text/plain": [
       "'депутат'"
      ]
     },
     "execution_count": 57,
     "metadata": {},
     "output_type": "execute_result"
    }
   ],
   "source": [
    "izvestiiaW2V.doesnt_match([\"ссср\", 'коммунизм', 'союз', 'социализм', 'депутат'])"
   ]
  },
  {
   "cell_type": "code",
   "execution_count": 66,
   "metadata": {},
   "outputs": [
    {
     "data": {
      "text/plain": [
       "[('М.', 0.7839202880859375),\n",
       " ('С.', 0.7745994925498962),\n",
       " ('Ярных', 0.75282883644104),\n",
       " ('Горбачева', 0.736815333366394),\n",
       " ('Ельцин', 0.7190157175064087),\n",
       " ('говорил', 0.7025200128555298),\n",
       " ('Рябов', 0.7020187973976135),\n",
       " ('Очевидцы', 0.6984454989433289),\n",
       " ('пишет', 0.6897454261779785),\n",
       " ('Рахманинов', 0.6880301237106323)]"
      ]
     },
     "execution_count": 66,
     "metadata": {},
     "output_type": "execute_result"
    }
   ],
   "source": [
    "izvestiiaW2V.most_similar(positive=['демократия', 'Горбачев'], negative = ['коммунизм'])"
   ]
  },
  {
   "cell_type": "code",
   "execution_count": 69,
   "metadata": {},
   "outputs": [
    {
     "data": {
      "text/plain": [
       "[('глава', 0.7138544321060181),\n",
       " ('руководитель', 0.7118391990661621),\n",
       " ('Президент', 0.7103844881057739),\n",
       " ('выразил', 0.7039642333984375),\n",
       " ('лидер', 0.7010303735733032),\n",
       " ('бывший', 0.6948716640472412),\n",
       " ('президент', 0.6906145811080933),\n",
       " ('Ельцин', 0.6847422122955322),\n",
       " ('Союз.', 0.6795715093612671),\n",
       " ('Союз', 0.6769667863845825)]"
      ]
     },
     "execution_count": 69,
     "metadata": {},
     "output_type": "execute_result"
    }
   ],
   "source": [
    "izvestiiaW2V.most_similar(positive=['союз', 'советский'], negative = ['федерация'])"
   ]
  },
  {
   "cell_type": "code",
   "execution_count": 183,
   "metadata": {},
   "outputs": [
    {
     "data": {
      "text/plain": [
       "[('королевских', 0.848339319229126),\n",
       " ('сплоченной', 0.8436034917831421),\n",
       " ('выраженное', 0.843562126159668),\n",
       " ('Голоса', 0.8395053148269653),\n",
       " ('авторитетов', 0.8372204303741455),\n",
       " ('становились', 0.8328097462654114),\n",
       " ('нацистов', 0.8319162130355835),\n",
       " ('смыкаются', 0.8268074989318848),\n",
       " ('Собравшиеся', 0.824552595615387),\n",
       " ('Народы', 0.8245038390159607)]"
      ]
     },
     "execution_count": 183,
     "metadata": {},
     "output_type": "execute_result"
    }
   ],
   "source": [
    "izvestiiaW2V.most_similar(positive=['союз', 'колхоз'], negative = ['банк'])"
   ]
  },
  {
   "cell_type": "code",
   "execution_count": 184,
   "metadata": {},
   "outputs": [
    {
     "data": {
      "text/plain": [
       "[('Израиля', 0.8482199907302856),\n",
       " ('глав', 0.8475713729858398),\n",
       " ('правительств', 0.8386114835739136),\n",
       " ('членами', 0.8371542692184448),\n",
       " ('лидеров', 0.8302909731864929),\n",
       " ('солидарности', 0.8272914886474609),\n",
       " ('представителями', 0.8223294019699097),\n",
       " ('прокуратуры', 0.8117510080337524),\n",
       " ('общественности', 0.8085099458694458),\n",
       " ('участниц', 0.8078860640525818)]"
      ]
     },
     "execution_count": 184,
     "metadata": {},
     "output_type": "execute_result"
    }
   ],
   "source": [
    "izvestiiaW2V.most_similar(positive=['союз', 'совет'], negative = ['банк'])"
   ]
  },
  {
   "cell_type": "code",
   "execution_count": 185,
   "metadata": {},
   "outputs": [
    {
     "data": {
      "text/plain": [
       "[('деятелями', 0.847201943397522),\n",
       " ('консенсуса', 0.8344744443893433),\n",
       " ('солидарности', 0.8318921327590942),\n",
       " ('братской', 0.8280216455459595),\n",
       " ('щейся', 0.8251439332962036),\n",
       " ('представи', 0.8215339183807373),\n",
       " ('ближневосточных', 0.8172136545181274),\n",
       " ('Обществом', 0.8163650035858154),\n",
       " ('АСЕАН', 0.8150444030761719),\n",
       " ('учеными', 0.8130583763122559)]"
      ]
     },
     "execution_count": 185,
     "metadata": {},
     "output_type": "execute_result"
    }
   ],
   "source": [
    "izvestiiaW2V.most_similar(positive=['союз', 'ссср'], negative = ['банк'])"
   ]
  },
  {
   "cell_type": "code",
   "execution_count": 186,
   "metadata": {},
   "outputs": [
    {
     "data": {
      "text/plain": [
       "[('швейцарский', 0.731383204460144),\n",
       " ('акционерный', 0.7301896810531616),\n",
       " ('фонд', 0.7293187975883484),\n",
       " ('Российский', 0.7153651714324951),\n",
       " ('австрийский', 0.7143989205360413),\n",
       " ('Банк', 0.7087201476097107),\n",
       " ('Норильский', 0.7065578699111938),\n",
       " ('доллар', 0.7048720121383667),\n",
       " ('РАО', 0.704056441783905),\n",
       " ('крона', 0.7018262147903442)]"
      ]
     },
     "execution_count": 186,
     "metadata": {},
     "output_type": "execute_result"
    }
   ],
   "source": [
    "izvestiiaW2V.most_similar(positive=['союз', 'банк'], negative = ['совет'])"
   ]
  },
  {
   "cell_type": "code",
   "execution_count": 187,
   "metadata": {},
   "outputs": [
    {
     "data": {
      "text/plain": [
       "[('кредит', 0.7901530265808105),\n",
       " ('завод', 0.7598676681518555),\n",
       " ('доллар', 0.7304578423500061),\n",
       " ('стерлингов', 0.7018349170684814),\n",
       " ('руб.', 0.6861395835876465),\n",
       " ('руб', 0.6792101860046387),\n",
       " ('цена', 0.6740419268608093),\n",
       " ('фунт', 0.6632956266403198),\n",
       " ('Российский', 0.6556909680366516),\n",
       " ('вложенный', 0.6534066200256348)]"
      ]
     },
     "execution_count": 187,
     "metadata": {},
     "output_type": "execute_result"
    }
   ],
   "source": [
    "izvestiiaW2V.most_similar(positive=['рубль', 'банк'], negative = ['союз'])"
   ]
  },
  {
   "cell_type": "code",
   "execution_count": 188,
   "metadata": {},
   "outputs": [
    {
     "data": {
      "text/plain": [
       "[('Закавказья', 0.8228087425231934),\n",
       " ('Пермской', 0.8127593994140625),\n",
       " ('районными', 0.809249997138977),\n",
       " ('фестивалей', 0.8066403865814209),\n",
       " ('сборных', 0.8058899641036987),\n",
       " ('дальнего', 0.8001370429992676),\n",
       " ('Кореи', 0.7997785806655884),\n",
       " ('ближнего', 0.7966890335083008),\n",
       " ('СевероЗападного', 0.7930302023887634),\n",
       " ('Осетии', 0.7918949127197266)]"
      ]
     },
     "execution_count": 188,
     "metadata": {},
     "output_type": "execute_result"
    }
   ],
   "source": [
    "izvestiiaW2V.most_similar(positive=['рубль', 'союз'], negative = ['банк'])"
   ]
  },
  {
   "cell_type": "code",
   "execution_count": 189,
   "metadata": {},
   "outputs": [
    {
     "data": {
      "text/plain": [
       "[('союза', 0.7828406095504761),\n",
       " ('Организации', 0.7792372703552246),\n",
       " ('директоров', 0.7659929394721985),\n",
       " ('орган', 0.7637766003608704),\n",
       " ('комитета', 0.7588459253311157),\n",
       " ('федерации', 0.7585683465003967),\n",
       " ('Наций', 0.7584417462348938),\n",
       " ('Федерации', 0.7512723803520203),\n",
       " ('комитет', 0.7467935681343079),\n",
       " ('ассоциации', 0.7460079789161682)]"
      ]
     },
     "execution_count": 189,
     "metadata": {},
     "output_type": "execute_result"
    }
   ],
   "source": [
    "izvestiiaW2V.most_similar(positive=['банк', 'союз'], negative = ['рубль'])"
   ]
  },
  {
   "cell_type": "markdown",
   "metadata": {},
   "source": [
    "## <span style=\"color:red\">*Exercise 1*</span>\n",
    "\n",
    "<span style=\"color:red\">Construct cells immediately below this that embed documents related to your final project using at least two different specification of `word2vec`, and visualize them each with two separate visualization layout specifications (e.g., TSNE, PCA). Then interrogate critical word vectors within your corpus in terms of the most similar words, analogies, and other additions and subtractions that reveal the structure of similarity and difference within your semantic space. What does this pattern reveal about the semantic organization of words in your corpora? Which estimation and visualization specification generate the most insight and appear the most robustly supported and why? \n",
    "\n",
    "<span style=\"color:red\">***Stretch***: Explore different vector calculations beyond addition and subtraction, such as multiplication, division or some other function. What does this exploration reveal about the semantic structure of your corpus?"
   ]
  },
  {
   "cell_type": "markdown",
   "metadata": {},
   "source": [
    "What this has demonstrated, once again, is that my corpus has a lot of garbage in it. Looking at the word clouds, it is clearly visible that there is a lot of meaningless junk floating around. And yet, when I was able to discover a more legible portion of words, a disticnt pattern emerged. Words relating to the Soviet Union, such as Central Committee and Communist Party were always seperated from words relating to a merket economy, such as ruble, thousands, and percent. This pattern repeated itself across all of the specifications that I applied. This indicates quite strongly that a discourse about the market was incompatible with a Soviet discourse. \n",
    "\n",
    "Testing this relationship further by looking at similarity ratings and additiona and subtraction validated this conclusion. The words Bank and Ruble relate to each other just as Union related to Committee for example, once again suggesting a divide between these two areas. \n",
    "\n",
    "Taking this relationship a step furhter I investigated relationships between words relating to democracy and words relating to communism. Again, a similar pattern emerged. If we add Union and Soviet, and subtract Federation, the result is President, Leader and Yeltsin. A similar pattern emerges if we compare the two systems directly. Democracy is to Communism what Gorbachev is to Yeltsin. Clearly within the semantic space of my corpus there is a strong divide/antagonism between the Soviet semantic space and a Market and Democractic Space.\n",
    "\n",
    "In terms of the estimation and visualization, ISO, TSNE, and MDS worked well, both drawing similar results, distinctly separating Communist and market words. LLE did not work at all well, just clumping everything together. "
   ]
  },
  {
   "cell_type": "markdown",
   "metadata": {},
   "source": [
    "# Doc 2 Vec"
   ]
  },
  {
   "cell_type": "code",
   "execution_count": 212,
   "metadata": {},
   "outputs": [],
   "source": [
    "keywords = ['ссср', 'союз', 'советский', 'банк', 'акция', 'свобода', 'ельцин', 'горбачев']"
   ]
  },
  {
   "cell_type": "code",
   "execution_count": 71,
   "metadata": {},
   "outputs": [],
   "source": [
    "df = pandas.read_json(\"izvestiia_complete.json\")"
   ]
  },
  {
   "cell_type": "code",
   "execution_count": 72,
   "metadata": {},
   "outputs": [
    {
     "data": {
      "text/html": [
       "<div>\n",
       "<style scoped>\n",
       "    .dataframe tbody tr th:only-of-type {\n",
       "        vertical-align: middle;\n",
       "    }\n",
       "\n",
       "    .dataframe tbody tr th {\n",
       "        vertical-align: top;\n",
       "    }\n",
       "\n",
       "    .dataframe thead th {\n",
       "        text-align: right;\n",
       "    }\n",
       "</style>\n",
       "<table border=\"1\" class=\"dataframe\">\n",
       "  <thead>\n",
       "    <tr style=\"text-align: right;\">\n",
       "      <th></th>\n",
       "      <th>text</th>\n",
       "      <th>year</th>\n",
       "      <th>filename</th>\n",
       "      <th>type</th>\n",
       "      <th>category</th>\n",
       "      <th>clean_text</th>\n",
       "      <th>clean_text2</th>\n",
       "      <th>tokenized</th>\n",
       "      <th>lemmas</th>\n",
       "      <th>lemmas_string</th>\n",
       "    </tr>\n",
       "  </thead>\n",
       "  <tbody>\n",
       "    <tr>\n",
       "      <td>0</td>\n",
       "      <td>№ 79\\t•\\t19 марта 1987 года\\n\\nФУТБОЛ: ИГРА, Б...</td>\n",
       "      <td>1987</td>\n",
       "      <td>1987 Issue 79 Page 6.txt</td>\n",
       "      <td>Communist</td>\n",
       "      <td>True</td>\n",
       "      <td>\\t\\t марта  года\\n\\nФУТБОЛ ИГРА БОРЬБА ПРАЗДН...</td>\n",
       "      <td>марта  годаФУТБОЛ ИГРА БОРЬБА ПРАЗДНИКТУРЕЦК...</td>\n",
       "      <td>[марта, годаФУТБОЛ, ИГРА, БОРЬБА, ПРАЗДНИКТУРЕ...</td>\n",
       "      <td>[март, годафутбол, игра, борьба, праздниктурец...</td>\n",
       "      <td>март годафутбол игра борьба праздниктурецкий ф...</td>\n",
       "    </tr>\n",
       "    <tr>\n",
       "      <td>1</td>\n",
       "      <td>а.'\\n\\n\\t'а'\\t'\\n\\n\\t\\t\\t\\t Подробности длл\\n\\...</td>\n",
       "      <td>1987</td>\n",
       "      <td>1987 Issue 219 Page 6.txt</td>\n",
       "      <td>Communist</td>\n",
       "      <td>True</td>\n",
       "      <td>а\\n\\n\\tа\\t\\n\\n\\t\\t\\t\\t Подробности длл\\n\\nСто ...</td>\n",
       "      <td>аа Подробности дллСто пятьдесят переговоров со...</td>\n",
       "      <td>[аа, Подробности, дллСто, пятьдесят, переговор...</td>\n",
       "      <td>[аа, подробность, дллсто, переговоры, состоять...</td>\n",
       "      <td>аа подробность дллсто переговоры состояться ив...</td>\n",
       "    </tr>\n",
       "    <tr>\n",
       "      <td>2</td>\n",
       "      <td>известии \\t ...\\n\\nСовместное советско- малайз...</td>\n",
       "      <td>1987</td>\n",
       "      <td>1987 Issue 219 Page 4.txt</td>\n",
       "      <td>Communist</td>\n",
       "      <td>True</td>\n",
       "      <td>известии \\t \\n\\nСовместное советско малайзийск...</td>\n",
       "      <td>известии  Совместное советско малайзийское ком...</td>\n",
       "      <td>[известии, Совместное, советско, малайзийское,...</td>\n",
       "      <td>[известия, совместный, советский, малайзийский...</td>\n",
       "      <td>известия совместный советский малайзийский ком...</td>\n",
       "    </tr>\n",
       "    <tr>\n",
       "      <td>3</td>\n",
       "      <td>’ ИЗВЕСТИЯ\\t■ - ■ по странам и континентам\\t\\t...</td>\n",
       "      <td>1987</td>\n",
       "      <td>1987 Issue 79 Page 5.txt</td>\n",
       "      <td>Communist</td>\n",
       "      <td>True</td>\n",
       "      <td>ИЗВЕСТИЯ\\t   по странам и континентам\\t\\t \\n\\...</td>\n",
       "      <td>ИЗВЕСТИЯ   по странам и континентам   марта  ...</td>\n",
       "      <td>[ИЗВЕСТИЯ, по, странам, и, континентам, марта,...</td>\n",
       "      <td>[известие, страна, континент, март, год, отзву...</td>\n",
       "      <td>известие страна континент март год отзвучать п...</td>\n",
       "    </tr>\n",
       "    <tr>\n",
       "      <td>4</td>\n",
       "      <td>ИЗВЕСТИЯ\\n\\n\\tГ! О СТРАНАМ ИР НСНТИНЕНТАМ —— 2...</td>\n",
       "      <td>1987</td>\n",
       "      <td>1987 Issue 79 Page 4.txt</td>\n",
       "      <td>Communist</td>\n",
       "      <td>True</td>\n",
       "      <td>ИЗВЕСТИЯ\\n\\n\\tГ О СТРАНАМ ИР НСНТИНЕНТАМ      ...</td>\n",
       "      <td>ИЗВЕСТИЯГ О СТРАНАМ ИР НСНТИНЕНТАМ       марта...</td>\n",
       "      <td>[ИЗВЕСТИЯГ, О, СТРАНАМ, ИР, НСНТИНЕНТАМ, марта...</td>\n",
       "      <td>[известияг, страна, ир, нснтинент, март, год, ...</td>\n",
       "      <td>известияг страна ир нснтинент март год телетай...</td>\n",
       "    </tr>\n",
       "    <tr>\n",
       "      <td>...</td>\n",
       "      <td>...</td>\n",
       "      <td>...</td>\n",
       "      <td>...</td>\n",
       "      <td>...</td>\n",
       "      <td>...</td>\n",
       "      <td>...</td>\n",
       "      <td>...</td>\n",
       "      <td>...</td>\n",
       "      <td>...</td>\n",
       "      <td>...</td>\n",
       "    </tr>\n",
       "    <tr>\n",
       "      <td>1299</td>\n",
       "      <td>﻿№56 •\\nИЗВЕСТИЯ\\n26 марта 1°|&gt;7 ’&lt;&gt;'&lt;\\t•\\nНаш...</td>\n",
       "      <td>1997</td>\n",
       "      <td>1997 Issue 56 March 26 Page 6.txt</td>\n",
       "      <td>Democratic</td>\n",
       "      <td>False</td>\n",
       "      <td>\\nИЗВЕСТИЯ\\n марта  \\t\\nНаш рейтинг\\n  \\n Дач...</td>\n",
       "      <td>ИЗВЕСТИЯ марта  Наш рейтинг   ДачаЭкологическ...</td>\n",
       "      <td>[ИЗВЕСТИЯ, марта, Наш, рейтинг, ДачаЭкологичес...</td>\n",
       "      <td>[известие, март, рейтинг, дачаэкологически, бе...</td>\n",
       "      <td>известие март рейтинг дачаэкологически безупре...</td>\n",
       "    </tr>\n",
       "    <tr>\n",
       "      <td>1300</td>\n",
       "      <td>﻿№ 18 3\\nИЗВЕСТИЯ\\n30 января 1997 года •\\nВ со...</td>\n",
       "      <td>1997</td>\n",
       "      <td>1997 Issue 18 January 30 Page 6.txt</td>\n",
       "      <td>Democratic</td>\n",
       "      <td>False</td>\n",
       "      <td>\\nИЗВЕСТИЯ\\n января  года \\nВ соответствии с...</td>\n",
       "      <td>ИЗВЕСТИЯ января  года В соответствии с утвер...</td>\n",
       "      <td>[ИЗВЕСТИЯ, января, года, В, соответствии, с, у...</td>\n",
       "      <td>[известие, январь, год, соответствие, утвердит...</td>\n",
       "      <td>известие январь год соответствие утвердить пол...</td>\n",
       "    </tr>\n",
       "    <tr>\n",
       "      <td>1301</td>\n",
       "      <td>﻿№ 56 •\\nИЗВЕСТИЯ\\n26 марта 1997 года •\\n' Таб...</td>\n",
       "      <td>1997</td>\n",
       "      <td>1997 Issue 56 March 26 Page 7.txt</td>\n",
       "      <td>Democratic</td>\n",
       "      <td>False</td>\n",
       "      <td>\\nИЗВЕСТИЯ\\n марта  года \\n Таблетки\\nБромел...</td>\n",
       "      <td>ИЗВЕСТИЯ марта  года  ТаблеткиБромелайнПЦИЫЖ...</td>\n",
       "      <td>[ИЗВЕСТИЯ, марта, года, ТаблеткиБромелайнПЦИЫЖ...</td>\n",
       "      <td>[известие, март, год, таблеткибромелайнпциыжнр...</td>\n",
       "      <td>известие март год таблеткибромелайнпциыжнр сгн...</td>\n",
       "    </tr>\n",
       "    <tr>\n",
       "      <td>1302</td>\n",
       "      <td>﻿№ 227 •\\nИЗВЕСТИЯ\\n29 ноября 1997 года •\\n3\\n...</td>\n",
       "      <td>1997</td>\n",
       "      <td>1997 Issue 227 November 29 Page 3.txt</td>\n",
       "      <td>Democratic</td>\n",
       "      <td>False</td>\n",
       "      <td>\\nИЗВЕСТИЯ\\n ноября  года \\n\\n Так считает п...</td>\n",
       "      <td>ИЗВЕСТИЯ ноября  года  Так считает председат...</td>\n",
       "      <td>[ИЗВЕСТИЯ, ноября, года, Так, считает, председ...</td>\n",
       "      <td>[известие, ноябрь, год, считать, председатель,...</td>\n",
       "      <td>известие ноябрь год считать председатель украи...</td>\n",
       "    </tr>\n",
       "    <tr>\n",
       "      <td>1303</td>\n",
       "      <td>﻿№ 246 •\\nИЗВЕСТИЯ\\n30 декабря 1997 года •\\nВз...</td>\n",
       "      <td>1997</td>\n",
       "      <td>1997 Issue 246 December 30 Page 4.txt</td>\n",
       "      <td>Democratic</td>\n",
       "      <td>False</td>\n",
       "      <td>\\nИЗВЕСТИЯ\\n декабря  года \\nВзятки на дорог...</td>\n",
       "      <td>ИЗВЕСТИЯ декабря  года Взятки на дорогахИз в...</td>\n",
       "      <td>[ИЗВЕСТИЯ, декабря, года, Взятки, на, дорогахИ...</td>\n",
       "      <td>[известие, декабрь, год, взятка, дорогахиз, во...</td>\n",
       "      <td>известие декабрь год взятка дорогахиз волгогра...</td>\n",
       "    </tr>\n",
       "  </tbody>\n",
       "</table>\n",
       "<p>1304 rows × 10 columns</p>\n",
       "</div>"
      ],
      "text/plain": [
       "                                                   text  year  \\\n",
       "0     № 79\\t•\\t19 марта 1987 года\\n\\nФУТБОЛ: ИГРА, Б...  1987   \n",
       "1     а.'\\n\\n\\t'а'\\t'\\n\\n\\t\\t\\t\\t Подробности длл\\n\\...  1987   \n",
       "2     известии \\t ...\\n\\nСовместное советско- малайз...  1987   \n",
       "3     ’ ИЗВЕСТИЯ\\t■ - ■ по странам и континентам\\t\\t...  1987   \n",
       "4     ИЗВЕСТИЯ\\n\\n\\tГ! О СТРАНАМ ИР НСНТИНЕНТАМ —— 2...  1987   \n",
       "...                                                 ...   ...   \n",
       "1299  ﻿№56 •\\nИЗВЕСТИЯ\\n26 марта 1°|>7 ’<>'<\\t•\\nНаш...  1997   \n",
       "1300  ﻿№ 18 3\\nИЗВЕСТИЯ\\n30 января 1997 года •\\nВ со...  1997   \n",
       "1301  ﻿№ 56 •\\nИЗВЕСТИЯ\\n26 марта 1997 года •\\n' Таб...  1997   \n",
       "1302  ﻿№ 227 •\\nИЗВЕСТИЯ\\n29 ноября 1997 года •\\n3\\n...  1997   \n",
       "1303  ﻿№ 246 •\\nИЗВЕСТИЯ\\n30 декабря 1997 года •\\nВз...  1997   \n",
       "\n",
       "                                   filename        type  category  \\\n",
       "0                  1987 Issue 79 Page 6.txt   Communist      True   \n",
       "1                 1987 Issue 219 Page 6.txt   Communist      True   \n",
       "2                 1987 Issue 219 Page 4.txt   Communist      True   \n",
       "3                  1987 Issue 79 Page 5.txt   Communist      True   \n",
       "4                  1987 Issue 79 Page 4.txt   Communist      True   \n",
       "...                                     ...         ...       ...   \n",
       "1299      1997 Issue 56 March 26 Page 6.txt  Democratic     False   \n",
       "1300    1997 Issue 18 January 30 Page 6.txt  Democratic     False   \n",
       "1301      1997 Issue 56 March 26 Page 7.txt  Democratic     False   \n",
       "1302  1997 Issue 227 November 29 Page 3.txt  Democratic     False   \n",
       "1303  1997 Issue 246 December 30 Page 4.txt  Democratic     False   \n",
       "\n",
       "                                             clean_text  \\\n",
       "0      \\t\\t марта  года\\n\\nФУТБОЛ ИГРА БОРЬБА ПРАЗДН...   \n",
       "1     а\\n\\n\\tа\\t\\n\\n\\t\\t\\t\\t Подробности длл\\n\\nСто ...   \n",
       "2     известии \\t \\n\\nСовместное советско малайзийск...   \n",
       "3      ИЗВЕСТИЯ\\t   по странам и континентам\\t\\t \\n\\...   \n",
       "4     ИЗВЕСТИЯ\\n\\n\\tГ О СТРАНАМ ИР НСНТИНЕНТАМ      ...   \n",
       "...                                                 ...   \n",
       "1299   \\nИЗВЕСТИЯ\\n марта  \\t\\nНаш рейтинг\\n  \\n Дач...   \n",
       "1300    \\nИЗВЕСТИЯ\\n января  года \\nВ соответствии с...   \n",
       "1301    \\nИЗВЕСТИЯ\\n марта  года \\n Таблетки\\nБромел...   \n",
       "1302    \\nИЗВЕСТИЯ\\n ноября  года \\n\\n Так считает п...   \n",
       "1303    \\nИЗВЕСТИЯ\\n декабря  года \\nВзятки на дорог...   \n",
       "\n",
       "                                            clean_text2  \\\n",
       "0       марта  годаФУТБОЛ ИГРА БОРЬБА ПРАЗДНИКТУРЕЦК...   \n",
       "1     аа Подробности дллСто пятьдесят переговоров со...   \n",
       "2     известии  Совместное советско малайзийское ком...   \n",
       "3      ИЗВЕСТИЯ   по странам и континентам   марта  ...   \n",
       "4     ИЗВЕСТИЯГ О СТРАНАМ ИР НСНТИНЕНТАМ       марта...   \n",
       "...                                                 ...   \n",
       "1299   ИЗВЕСТИЯ марта  Наш рейтинг   ДачаЭкологическ...   \n",
       "1300    ИЗВЕСТИЯ января  года В соответствии с утвер...   \n",
       "1301    ИЗВЕСТИЯ марта  года  ТаблеткиБромелайнПЦИЫЖ...   \n",
       "1302    ИЗВЕСТИЯ ноября  года  Так считает председат...   \n",
       "1303    ИЗВЕСТИЯ декабря  года Взятки на дорогахИз в...   \n",
       "\n",
       "                                              tokenized  \\\n",
       "0     [марта, годаФУТБОЛ, ИГРА, БОРЬБА, ПРАЗДНИКТУРЕ...   \n",
       "1     [аа, Подробности, дллСто, пятьдесят, переговор...   \n",
       "2     [известии, Совместное, советско, малайзийское,...   \n",
       "3     [ИЗВЕСТИЯ, по, странам, и, континентам, марта,...   \n",
       "4     [ИЗВЕСТИЯГ, О, СТРАНАМ, ИР, НСНТИНЕНТАМ, марта...   \n",
       "...                                                 ...   \n",
       "1299  [ИЗВЕСТИЯ, марта, Наш, рейтинг, ДачаЭкологичес...   \n",
       "1300  [ИЗВЕСТИЯ, января, года, В, соответствии, с, у...   \n",
       "1301  [ИЗВЕСТИЯ, марта, года, ТаблеткиБромелайнПЦИЫЖ...   \n",
       "1302  [ИЗВЕСТИЯ, ноября, года, Так, считает, председ...   \n",
       "1303  [ИЗВЕСТИЯ, декабря, года, Взятки, на, дорогахИ...   \n",
       "\n",
       "                                                 lemmas  \\\n",
       "0     [март, годафутбол, игра, борьба, праздниктурец...   \n",
       "1     [аа, подробность, дллсто, переговоры, состоять...   \n",
       "2     [известия, совместный, советский, малайзийский...   \n",
       "3     [известие, страна, континент, март, год, отзву...   \n",
       "4     [известияг, страна, ир, нснтинент, март, год, ...   \n",
       "...                                                 ...   \n",
       "1299  [известие, март, рейтинг, дачаэкологически, бе...   \n",
       "1300  [известие, январь, год, соответствие, утвердит...   \n",
       "1301  [известие, март, год, таблеткибромелайнпциыжнр...   \n",
       "1302  [известие, ноябрь, год, считать, председатель,...   \n",
       "1303  [известие, декабрь, год, взятка, дорогахиз, во...   \n",
       "\n",
       "                                          lemmas_string  \n",
       "0     март годафутбол игра борьба праздниктурецкий ф...  \n",
       "1     аа подробность дллсто переговоры состояться ив...  \n",
       "2     известия совместный советский малайзийский ком...  \n",
       "3     известие страна континент март год отзвучать п...  \n",
       "4     известияг страна ир нснтинент март год телетай...  \n",
       "...                                                 ...  \n",
       "1299  известие март рейтинг дачаэкологически безупре...  \n",
       "1300  известие январь год соответствие утвердить пол...  \n",
       "1301  известие март год таблеткибромелайнпциыжнр сгн...  \n",
       "1302  известие ноябрь год считать председатель украи...  \n",
       "1303  известие декабрь год взятка дорогахиз волгогра...  \n",
       "\n",
       "[1304 rows x 10 columns]"
      ]
     },
     "execution_count": 72,
     "metadata": {},
     "output_type": "execute_result"
    }
   ],
   "source": [
    "df"
   ]
  },
  {
   "cell_type": "code",
   "execution_count": 214,
   "metadata": {},
   "outputs": [],
   "source": [
    "taggedDocs = []\n",
    "for index, row in df.iterrows():\n",
    "    docKeywords = [s for s in keywords if s in row['lemmas']]\n",
    "    docKeywords.append(row['year'])\n",
    "    docKeywords.append(row['filename'])\n",
    "    taggedDocs.append(gensim.models.doc2vec.LabeledSentence(words = row['lemmas'], tags = docKeywords))\n",
    "df['tagged_text'] = taggedDocs"
   ]
  },
  {
   "cell_type": "code",
   "execution_count": 215,
   "metadata": {},
   "outputs": [
    {
     "name": "stderr",
     "output_type": "stream",
     "text": [
      "/opt/anaconda3/lib/python3.7/site-packages/gensim/models/doc2vec.py:574: UserWarning: The parameter `size` is deprecated, will be removed in 4.0.0, use `vector_size` instead.\n",
      "  warnings.warn(\"The parameter `size` is deprecated, will be removed in 4.0.0, use `vector_size` instead.\")\n"
     ]
    }
   ],
   "source": [
    "izD2V = gensim.models.doc2vec.Doc2Vec(df['tagged_text'], size = 100)"
   ]
  },
  {
   "cell_type": "code",
   "execution_count": 77,
   "metadata": {},
   "outputs": [
    {
     "data": {
      "text/plain": [
       "array([ 4.0382404 ,  1.1560782 , -6.3087196 , -6.2656918 , -2.3509123 ,\n",
       "       -1.6540613 ,  0.8258199 ,  1.4488547 , -0.11151542,  2.3626318 ,\n",
       "       -2.6185431 , -0.56619424, -1.8024113 ,  0.5543326 , -1.5965582 ,\n",
       "       -0.8452318 ,  1.9747015 , -0.03166691,  0.7659971 , -0.95282257,\n",
       "        1.4014354 , -1.7686336 ,  1.0050931 , -1.9414228 , -0.4802329 ,\n",
       "       -2.1487176 , -2.6316395 ,  0.9360717 , -1.2614133 , -2.339584  ,\n",
       "        0.6791806 ,  0.15035896,  2.871429  , -1.6115834 , -0.14233468,\n",
       "       -0.2339622 , -0.4928821 ,  0.6276408 , -0.53397006,  0.63405246,\n",
       "        0.7297663 ,  0.34296477, -0.5028441 , -0.27689037, -0.76866007,\n",
       "        0.21110189, -0.12934421,  0.23398247,  0.3565197 , -2.8812149 ,\n",
       "        0.259541  , -0.13817047,  1.3580604 ,  0.44248524, -0.18691963,\n",
       "       -2.517782  ,  2.9867275 , -0.96604353,  0.630929  ,  0.6204645 ,\n",
       "        1.1146616 , -1.1850538 , -0.9042229 ,  1.3490626 , -1.8507073 ,\n",
       "       -1.5721433 ,  1.5189465 ,  0.3213513 , -2.3646116 ,  2.4398355 ,\n",
       "        2.048307  ,  0.23193146, -1.0181025 ,  0.23335548,  1.1071268 ,\n",
       "       -1.7459708 , -0.0240206 , -1.5160533 , -2.9008353 , -1.6687975 ,\n",
       "       -0.18717961,  0.32290897, -1.7810978 , -2.22105   ,  0.19486046,\n",
       "        1.2009109 ,  1.3909627 ,  1.3247933 , -2.1172116 ,  1.5476712 ,\n",
       "       -0.5452799 ,  2.283198  , -0.20294178, -1.1622552 ,  0.4975044 ,\n",
       "        0.323192  , -0.66762984,  1.0635779 ,  1.084674  ,  0.5369168 ],\n",
       "      dtype=float32)"
      ]
     },
     "execution_count": 77,
     "metadata": {},
     "output_type": "execute_result"
    }
   ],
   "source": [
    "izD2V.docvecs[1997]"
   ]
  },
  {
   "cell_type": "code",
   "execution_count": 78,
   "metadata": {},
   "outputs": [
    {
     "data": {
      "text/plain": [
       "[('заседатель', 0.8204411864280701),\n",
       " ('нлродный', 0.806776762008667),\n",
       " ('депут', 0.788619875907898),\n",
       " ('избранник', 0.773747444152832),\n",
       " ('дружинник', 0.7679932117462158),\n",
       " ('округа', 0.7565396428108215),\n",
       " ('кандидат', 0.7462388873100281),\n",
       " ('избирать', 0.7437130212783813),\n",
       " ('контролер', 0.739069938659668),\n",
       " ('избирательный', 0.7218797206878662)]"
      ]
     },
     "execution_count": 78,
     "metadata": {},
     "output_type": "execute_result"
    }
   ],
   "source": [
    "izD2V.most_similar('депутат')"
   ]
  },
  {
   "cell_type": "code",
   "execution_count": 79,
   "metadata": {},
   "outputs": [
    {
     "data": {
      "text/plain": [
       "[('союзв', 0.8133110404014587),\n",
       " ('зимбабвийский', 0.7689646482467651),\n",
       " ('официоз', 0.7613288164138794),\n",
       " ('вливать', 0.7479920387268066),\n",
       " ('химера', 0.7306417226791382),\n",
       " ('союзас', 0.7258646488189697),\n",
       " ('типично', 0.7167108058929443),\n",
       " ('уждение', 0.7122490406036377),\n",
       " ('союэ', 0.7106001377105713),\n",
       " ('сторо', 0.6972140073776245)]"
      ]
     },
     "execution_count": 79,
     "metadata": {},
     "output_type": "execute_result"
    }
   ],
   "source": [
    "izD2V.most_similar('союз')"
   ]
  },
  {
   "cell_type": "code",
   "execution_count": 80,
   "metadata": {},
   "outputs": [
    {
     "data": {
      "text/plain": [
       "[('сбербанк', 0.788270115852356),\n",
       " ('коммерческий', 0.7585007548332214),\n",
       " ('счет', 0.745520830154419),\n",
       " ('инкомбанк', 0.7176812887191772),\n",
       " ('фонд', 0.697205126285553),\n",
       " ('кредит', 0.6912707686424255),\n",
       " ('адресный', 0.6835498809814453),\n",
       " ('свак', 0.6743786334991455),\n",
       " ('кредитный', 0.6704534292221069),\n",
       " ('агропромбанк', 0.6704261302947998)]"
      ]
     },
     "execution_count": 80,
     "metadata": {},
     "output_type": "execute_result"
    }
   ],
   "source": [
    "izD2V.most_similar('банк')"
   ]
  },
  {
   "cell_type": "code",
   "execution_count": 81,
   "metadata": {},
   "outputs": [
    {
     "data": {
      "text/plain": [
       "[('нрб', 0.7275784015655518),\n",
       " ('пнр.', 0.6887457370758057),\n",
       " ('мнр', 0.6845041513442993),\n",
       " ('адам', 0.6804054975509644),\n",
       " ('срр', 0.6773707866668701),\n",
       " ('добрынин', 0.6762093305587769),\n",
       " ('оборо', 0.6760945916175842),\n",
       " ('васхнить', 0.6746888756752014),\n",
       " ('внр', 0.6742294430732727),\n",
       " ('кндр', 0.673599898815155)]"
      ]
     },
     "execution_count": 81,
     "metadata": {},
     "output_type": "execute_result"
    }
   ],
   "source": [
    "izD2V.most_similar('ссср')"
   ]
  },
  {
   "cell_type": "code",
   "execution_count": 82,
   "metadata": {},
   "outputs": [
    {
     "data": {
      "text/plain": [
       "[('преступление', 0.9238147139549255),\n",
       " ('тяжкий', 0.9209285974502563),\n",
       " ('лишение', 0.9054714441299438),\n",
       " ('вред', 0.8660053014755249),\n",
       " ('деяние', 0.8632222414016724),\n",
       " ('лишить', 0.8607805967330933),\n",
       " ('умышленный', 0.8602304458618164),\n",
       " ('вероисповедание', 0.856152355670929),\n",
       " ('наказание', 0.8484421968460083),\n",
       " ('безнаказанность', 0.8476907014846802)]"
      ]
     },
     "execution_count": 82,
     "metadata": {},
     "output_type": "execute_result"
    }
   ],
   "source": [
    "izD2V.most_similar('свобода')"
   ]
  },
  {
   "cell_type": "code",
   "execution_count": 83,
   "metadata": {},
   "outputs": [
    {
     "data": {
      "text/plain": [
       "'депутат'"
      ]
     },
     "execution_count": 83,
     "metadata": {},
     "output_type": "execute_result"
    }
   ],
   "source": [
    "izD2V.doesnt_match([\"ссср\", 'коммунизм', 'союз', 'социализм', 'депутат'])"
   ]
  },
  {
   "cell_type": "code",
   "execution_count": 85,
   "metadata": {},
   "outputs": [
    {
     "data": {
      "text/plain": [
       "[('доморощенный', 0.8163062334060669),\n",
       " ('шаймиев', 0.7977128028869629),\n",
       " ('сирина', 0.7925489544868469),\n",
       " ('мейджор', 0.7917577028274536),\n",
       " ('социал', 0.7826569676399231),\n",
       " ('претория', 0.780645489692688),\n",
       " ('рейган', 0.779781699180603),\n",
       " ('отвергнуть', 0.7792837023735046),\n",
       " ('подчеркнуть', 0.7673252820968628),\n",
       " ('камерун', 0.7668431997299194)]"
      ]
     },
     "execution_count": 85,
     "metadata": {},
     "output_type": "execute_result"
    }
   ],
   "source": [
    "izD2V.most_similar(positive=['демократия', 'горбачев'], negative = ['коммунизм'])"
   ]
  },
  {
   "cell_type": "code",
   "execution_count": 86,
   "metadata": {},
   "outputs": [
    {
     "data": {
      "text/plain": [
       "[('нойна', 0.6125255823135376),\n",
       " ('чернобыль', 0.5896914005279541),\n",
       " ('чаский', 0.5876253843307495),\n",
       " ('сомтский', 0.5704730749130249),\n",
       " ('ясь', 0.5704050064086914),\n",
       " ('тбилисец', 0.5690721869468689),\n",
       " ('джорджия', 0.564123272895813),\n",
       " ('сойотский', 0.5623784065246582),\n",
       " ('сояетский', 0.5545032024383545),\n",
       " ('салют', 0.5540241003036499)]"
      ]
     },
     "execution_count": 86,
     "metadata": {},
     "output_type": "execute_result"
    }
   ],
   "source": [
    "izD2V.most_similar(positive=['союз', 'советский'], negative = ['федерация'])"
   ]
  },
  {
   "cell_type": "code",
   "execution_count": 87,
   "metadata": {},
   "outputs": [
    {
     "data": {
      "text/plain": [
       "[('социализм', 0.854382336139679),\n",
       " ('соци', 0.8297104239463806),\n",
       " ('высоко', 0.8276066780090332),\n",
       " ('интернационализм', 0.8272991180419922),\n",
       " ('созидание', 0.8157675266265869),\n",
       " ('процветание', 0.8078547716140747),\n",
       " ('непримиримость', 0.8072417974472046),\n",
       " ('социалистический', 0.7932116985321045),\n",
       " ('духовный', 0.7865173816680908),\n",
       " ('глубокий', 0.7779744267463684)]"
      ]
     },
     "execution_count": 87,
     "metadata": {},
     "output_type": "execute_result"
    }
   ],
   "source": [
    "izD2V.most_similar(positive=['демократия', 'горбачев'], negative = ['ельцин'])"
   ]
  },
  {
   "cell_type": "code",
   "execution_count": 91,
   "metadata": {},
   "outputs": [
    {
     "data": {
      "text/plain": [
       "[('казахстан', 0.688690185546875),\n",
       " ('соеетский', 0.6522308588027954),\n",
       " ('перестраховочный', 0.6434000134468079),\n",
       " ('креди', 0.640561580657959),\n",
       " ('герма', 0.6336276531219482),\n",
       " ('швейцарский', 0.6315592527389526),\n",
       " ('германия', 0.6305954456329346),\n",
       " ('украина', 0.6291631460189819),\n",
       " ('россиисах', 0.6248155236244202),\n",
       " ('письменность', 0.6176676750183105)]"
      ]
     },
     "execution_count": 91,
     "metadata": {},
     "output_type": "execute_result"
    }
   ],
   "source": [
    "izD2V.most_similar(positive=['россия', 'горбачев'], negative = ['ельцин'])"
   ]
  },
  {
   "cell_type": "code",
   "execution_count": 190,
   "metadata": {},
   "outputs": [
    {
     "data": {
      "text/plain": [
       "[('нойна', 0.6125255823135376),\n",
       " ('чернобыль', 0.5896914005279541),\n",
       " ('чаский', 0.5876253843307495),\n",
       " ('сомтский', 0.5704730749130249),\n",
       " ('ясь', 0.5704050064086914),\n",
       " ('тбилисец', 0.5690721869468689),\n",
       " ('джорджия', 0.564123272895813),\n",
       " ('сойотский', 0.5623784065246582),\n",
       " ('сояетский', 0.5545032024383545),\n",
       " ('салют', 0.5540241003036499)]"
      ]
     },
     "execution_count": 190,
     "metadata": {},
     "output_type": "execute_result"
    }
   ],
   "source": [
    "izD2V.most_similar(positive=['советский', 'союз'], negative = ['федерация'])"
   ]
  },
  {
   "cell_type": "code",
   "execution_count": 192,
   "metadata": {},
   "outputs": [
    {
     "data": {
      "text/plain": [
       "[('обличать', 0.5846683382987976),\n",
       " ('ноеый', 0.5510428547859192),\n",
       " ('служать', 0.5473208427429199),\n",
       " ('двиг', 0.5422390699386597),\n",
       " ('уждение', 0.5412915945053101),\n",
       " ('коммунистический', 0.5253468751907349),\n",
       " ('неустанный', 0.5232430100440979),\n",
       " ('рево', 0.5222369432449341),\n",
       " ('итой', 0.5217142105102539),\n",
       " ('авангардист', 0.5207717418670654)]"
      ]
     },
     "execution_count": 192,
     "metadata": {},
     "output_type": "execute_result"
    }
   ],
   "source": [
    "izD2V.most_similar(positive=['советский', 'союз'], negative = ['россия'])"
   ]
  },
  {
   "cell_type": "code",
   "execution_count": 193,
   "metadata": {},
   "outputs": [
    {
     "data": {
      "text/plain": [
       "[('советси', 0.6547662019729614),\n",
       " ('российский', 0.6441315412521362),\n",
       " ('сссрсоветский', 0.6423308849334717),\n",
       " ('сср', 0.5953453779220581),\n",
       " ('нефтепромышленник', 0.5848839282989502),\n",
       " ('сссрпо', 0.5814043283462524),\n",
       " ('терт', 0.5770220756530762),\n",
       " ('пелтиер', 0.5731817483901978),\n",
       " ('дублер', 0.5704934597015381),\n",
       " ('вопросить', 0.5683915019035339)]"
      ]
     },
     "execution_count": 193,
     "metadata": {},
     "output_type": "execute_result"
    }
   ],
   "source": [
    "izD2V.most_similar(positive=['советский', 'федерация'], negative = ['союз'])"
   ]
  },
  {
   "cell_type": "code",
   "execution_count": 194,
   "metadata": {},
   "outputs": [
    {
     "data": {
      "text/plain": [
       "[('российский', 0.7365508079528809),\n",
       " ('сомтский', 0.6483497619628906),\n",
       " ('чернобыль', 0.6294316053390503),\n",
       " ('ясь', 0.6097320318222046),\n",
       " ('советси', 0.580520749092102),\n",
       " ('европейский', 0.5736316442489624),\n",
       " ('стов', 0.5678807497024536),\n",
       " ('журналь', 0.5640397071838379),\n",
       " ('нефтепромышленник', 0.5578005909919739),\n",
       " ('оценщик', 0.5432271957397461)]"
      ]
     },
     "execution_count": 194,
     "metadata": {},
     "output_type": "execute_result"
    }
   ],
   "source": [
    "izD2V.most_similar(positive=['советский', 'россия'], negative = ['союз'])"
   ]
  },
  {
   "cell_type": "code",
   "execution_count": 195,
   "metadata": {},
   "outputs": [
    {
     "data": {
      "text/plain": [
       "[('1991 Issue 171 July 19 Page 2.txt', 0.8090865612030029),\n",
       " ('1987 Issue 359 Page 4.txt', 0.6009533405303955),\n",
       " ('1989 Issue 354 December 20 Page 2.txt', 0.5864172577857971),\n",
       " ('1990 Issue 056 February 24 Page 5.txt', 0.5838969349861145),\n",
       " ('1990 Issue 056 February 24 Page 6.txt', 0.5831599831581116)]"
      ]
     },
     "execution_count": 195,
     "metadata": {},
     "output_type": "execute_result"
    }
   ],
   "source": [
    "izD2V.docvecs.most_similar([ izD2V['свобода'] ], topn=5)"
   ]
  },
  {
   "cell_type": "code",
   "execution_count": 196,
   "metadata": {},
   "outputs": [
    {
     "data": {
      "text/plain": [
       "[('1996 Issue 159 August 27 Page 9.txt', 0.7054216861724854),\n",
       " ('1995 Issue 56 March 28 Page 12.txt', 0.6329083442687988),\n",
       " ('1995 Issue 94 May 25 Page 11.txt', 0.6177740097045898),\n",
       " ('1996 Issue 159 August 27 Page 11.txt', 0.6089526414871216),\n",
       " ('1997 Issue 246 December 30 Page 9.txt', 0.5835102200508118)]"
      ]
     },
     "execution_count": 196,
     "metadata": {},
     "output_type": "execute_result"
    }
   ],
   "source": [
    "izD2V.docvecs.most_similar([ izD2V['банк'] ], topn=5)"
   ]
  },
  {
   "cell_type": "code",
   "execution_count": 197,
   "metadata": {},
   "outputs": [
    {
     "data": {
      "text/plain": [
       "[('1986 Issue 332 Page 5.txt', 0.5340603590011597),\n",
       " ('1985 Issue 277 Page 4.txt', 0.5330089330673218),\n",
       " ('1986 Issue 332 Page 1.txt', 0.5238586664199829),\n",
       " ('1986 Issue 024 Page 4.txt', 0.4669373631477356),\n",
       " ('1989 Issue 046 February 14 Page 4.txt', 0.4666927754878998)]"
      ]
     },
     "execution_count": 197,
     "metadata": {},
     "output_type": "execute_result"
    }
   ],
   "source": [
    "izD2V.docvecs.most_similar([ izD2V['союз'] ], topn=5)"
   ]
  },
  {
   "cell_type": "code",
   "execution_count": 198,
   "metadata": {},
   "outputs": [
    {
     "data": {
      "text/plain": [
       "[('1996 Issue 15 January 25 Page 10.txt', 0.7549622058868408),\n",
       " ('1996 Issue 51 March 19 Page 10.txt', 0.7515755891799927),\n",
       " ('1996 Issue 87 May 14 Page 16.txt', 0.7281611561775208),\n",
       " ('1996 Issue 69 April 12 Page 12.txt', 0.7057710886001587),\n",
       " ('1995 Issue 94 May 25 Page 11.txt', 0.68235844373703)]"
      ]
     },
     "execution_count": 198,
     "metadata": {},
     "output_type": "execute_result"
    }
   ],
   "source": [
    "izD2V.docvecs.most_similar([ izD2V['акция'] ], topn=5)"
   ]
  },
  {
   "cell_type": "code",
   "execution_count": 202,
   "metadata": {},
   "outputs": [
    {
     "data": {
      "text/plain": [
       "[('эация', 0.6853758096694946),\n",
       " ('иерархический', 0.6488319039344788),\n",
       " ('расли', 0.641681432723999),\n",
       " ('пешно', 0.6247661709785461),\n",
       " ('выслуга', 0.6055617332458496)]"
      ]
     },
     "execution_count": 202,
     "metadata": {},
     "output_type": "execute_result"
    }
   ],
   "source": [
    "izD2V.most_similar([izD2V.docvecs['1992 Issue 001 January 02 Page 1.txt']], topn=5) "
   ]
  },
  {
   "cell_type": "code",
   "execution_count": 203,
   "metadata": {},
   "outputs": [
    {
     "data": {
      "text/plain": [
       "[('сурс', 0.9082105159759521),\n",
       " ('темника', 0.8783132433891296),\n",
       " ('сродство', 0.8636755347251892),\n",
       " ('рационально', 0.8368611335754395),\n",
       " ('сириец', 0.8342902064323425)]"
      ]
     },
     "execution_count": 203,
     "metadata": {},
     "output_type": "execute_result"
    }
   ],
   "source": [
    "izD2V.most_similar([izD2V.docvecs['1992 Issue 001 January 02 Page 2.txt']], topn=5) "
   ]
  },
  {
   "cell_type": "code",
   "execution_count": 204,
   "metadata": {},
   "outputs": [
    {
     "data": {
      "text/plain": [
       "[('стном', 0.7533314228057861),\n",
       " ('зарядить', 0.7498997449874878),\n",
       " ('атеросклероз', 0.7229082584381104),\n",
       " ('маяо', 0.7097998857498169),\n",
       " ('супершоу', 0.6896404027938843)]"
      ]
     },
     "execution_count": 204,
     "metadata": {},
     "output_type": "execute_result"
    }
   ],
   "source": [
    "izD2V.most_similar([izD2V.docvecs['1992 Issue 001 January 02 Page 3.txt']], topn=5) "
   ]
  },
  {
   "cell_type": "code",
   "execution_count": 205,
   "metadata": {},
   "outputs": [
    {
     "data": {
      "text/plain": [
       "[('терминология', 0.7886223793029785),\n",
       " ('союзнический', 0.7810488939285278),\n",
       " ('вещательный', 0.7676157355308533),\n",
       " ('сеуть', 0.7595713138580322),\n",
       " ('джорджем', 0.7579196691513062)]"
      ]
     },
     "execution_count": 205,
     "metadata": {},
     "output_type": "execute_result"
    }
   ],
   "source": [
    "izD2V.most_similar([izD2V.docvecs['1992 Issue 001 January 02 Page 4.txt']], topn=5) "
   ]
  },
  {
   "cell_type": "code",
   "execution_count": 206,
   "metadata": {},
   "outputs": [
    {
     "data": {
      "text/plain": [
       "[('ги', 0.9901828765869141),\n",
       " ('чно', 0.9796445369720459),\n",
       " ('гморми', 0.9791469573974609),\n",
       " ('понобн', 0.9753109216690063),\n",
       " ('тс', 0.9744582176208496)]"
      ]
     },
     "execution_count": 206,
     "metadata": {},
     "output_type": "execute_result"
    }
   ],
   "source": [
    "izD2V.most_similar([izD2V.docvecs['1992 Issue 001 January 02 Page 5.txt']], topn=5) "
   ]
  },
  {
   "cell_type": "code",
   "execution_count": 207,
   "metadata": {},
   "outputs": [
    {
     "data": {
      "text/plain": [
       "[('яростно', 0.8891955614089966),\n",
       " ('козел', 0.8722230792045593),\n",
       " ('пугачев', 0.8581656813621521),\n",
       " ('суррогатный', 0.8378862142562866),\n",
       " ('мелькнуть', 0.8359563946723938)]"
      ]
     },
     "execution_count": 207,
     "metadata": {},
     "output_type": "execute_result"
    }
   ],
   "source": [
    "izD2V.most_similar([izD2V.docvecs['1992 Issue 001 January 02 Page 6.txt']], topn=5) "
   ]
  },
  {
   "cell_type": "code",
   "execution_count": 208,
   "metadata": {},
   "outputs": [
    {
     "data": {
      "text/plain": [
       "[('1996 Issue 213 November 12 Page 11.txt', 0.7333554029464722),\n",
       " ('1995 Issue 56 March 28 Page 13.txt', 0.7104048728942871),\n",
       " ('1996 Issue 159 August 27 Page 9.txt', 0.6817651987075806),\n",
       " ('1997 Issue 246 December 30 Page 9.txt', 0.6743556261062622),\n",
       " ('1994 Issue 220 November 16 Page 12.txt', 0.6686302423477173)]"
      ]
     },
     "execution_count": 208,
     "metadata": {},
     "output_type": "execute_result"
    }
   ],
   "source": [
    "izD2V.docvecs.most_similar([izD2V['банк']+izD2V['акция']+izD2V['свобода']], topn=5)"
   ]
  },
  {
   "cell_type": "code",
   "execution_count": 209,
   "metadata": {},
   "outputs": [
    {
     "data": {
      "text/plain": [
       "[('1986 Issue 332 Page 1.txt', 0.6604351997375488),\n",
       " ('1986 Issue 332 Page 5.txt', 0.6546586751937866),\n",
       " ('1985 Issue 277 Page 4.txt', 0.6502929925918579),\n",
       " ('1986 Issue 332 Page 2.txt', 0.5910861492156982),\n",
       " ('1991 Issue 032 February 06 Page 3.txt', 0.5886889696121216)]"
      ]
     },
     "execution_count": 209,
     "metadata": {},
     "output_type": "execute_result"
    }
   ],
   "source": [
    "izD2V.docvecs.most_similar([izD2V['союз']+izD2V['советский']+izD2V['свобода']], topn=5)"
   ]
  },
  {
   "cell_type": "code",
   "execution_count": 216,
   "metadata": {},
   "outputs": [],
   "source": [
    "heatmapMatrix = []\n",
    "for tagOuter in keywords:\n",
    "    column = []\n",
    "    tagVec = izD2V.docvecs[tagOuter].reshape(1, -1)\n",
    "    for tagInner in keywords:\n",
    "        column.append(sklearn.metrics.pairwise.cosine_similarity(tagVec, izD2V.docvecs[tagInner].reshape(1, -1))[0][0])\n",
    "    heatmapMatrix.append(column)\n",
    "heatmapMatrix = np.array(heatmapMatrix)"
   ]
  },
  {
   "cell_type": "code",
   "execution_count": 217,
   "metadata": {},
   "outputs": [
    {
     "data": {
      "image/png": "[encoded data removed]",
      "text/plain": [
       "<Figure size 432x288 with 2 Axes>"
      ]
     },
     "metadata": {
      "needs_background": "light"
     },
     "output_type": "display_data"
    }
   ],
   "source": [
    "fig, ax = plt.subplots()\n",
    "hmap = ax.pcolor(heatmapMatrix, cmap='terrain')\n",
    "cbar = plt.colorbar(hmap)\n",
    "\n",
    "cbar.set_label('cosine similarity', rotation=270)\n",
    "a = ax.set_xticks(np.arange(heatmapMatrix.shape[1]) + 0.5, minor=False)\n",
    "a = ax.set_yticks(np.arange(heatmapMatrix.shape[0]) + 0.5, minor=False)\n",
    "\n",
    "a = ax.set_xticklabels(keywords, minor=False, rotation=270)\n",
    "a = ax.set_yticklabels(keywords, minor=False)"
   ]
  },
  {
   "cell_type": "code",
   "execution_count": 224,
   "metadata": {},
   "outputs": [],
   "source": [
    "targetDocs = df['filename'][0::100]\n",
    "\n",
    "heatmapMatrixD = []\n",
    "\n",
    "for tagOuter in targetDocs:\n",
    "    column = []\n",
    "    tagVec = izD2V.docvecs[tagOuter].reshape(1, -1)\n",
    "    for tagInner in targetDocs:\n",
    "        column.append(sklearn.metrics.pairwise.cosine_similarity(tagVec, izD2V.docvecs[tagInner].reshape(1, -1))[0][0])\n",
    "    heatmapMatrixD.append(column)\n",
    "heatmapMatrixD = np.array(heatmapMatrixD)"
   ]
  },
  {
   "cell_type": "code",
   "execution_count": 225,
   "metadata": {},
   "outputs": [
    {
     "data": {
      "image/png": "[encoded data removed]",
      "text/plain": [
       "<Figure size 432x288 with 2 Axes>"
      ]
     },
     "metadata": {
      "needs_background": "light"
     },
     "output_type": "display_data"
    }
   ],
   "source": [
    "fig, ax = plt.subplots()\n",
    "hmap = ax.pcolor(heatmapMatrixD, cmap='terrain')\n",
    "cbar = plt.colorbar(hmap)\n",
    "\n",
    "cbar.set_label('cosine similarity', rotation=270)\n",
    "a = ax.set_xticks(np.arange(heatmapMatrixD.shape[1]) + 0.5, minor=False)\n",
    "a = ax.set_yticks(np.arange(heatmapMatrixD.shape[0]) + 0.5, minor=False)\n",
    "\n",
    "a = ax.set_xticklabels(targetDocs, minor=False, rotation=270)\n",
    "a = ax.set_yticklabels(targetDocs, minor=False)"
   ]
  },
  {
   "cell_type": "code",
   "execution_count": 226,
   "metadata": {},
   "outputs": [],
   "source": [
    "heatmapMatrixC = []\n",
    "\n",
    "for tagOuter in targetDocs:\n",
    "    column = []\n",
    "    tagVec = izD2V.docvecs[tagOuter].reshape(1, -1)\n",
    "    for tagInner in keywords:\n",
    "        column.append(sklearn.metrics.pairwise.cosine_similarity(tagVec, izD2V.docvecs[tagInner].reshape(1, -1))[0][0])\n",
    "    heatmapMatrixC.append(column)\n",
    "heatmapMatrixC = np.array(heatmapMatrixC)"
   ]
  },
  {
   "cell_type": "code",
   "execution_count": 227,
   "metadata": {},
   "outputs": [
    {
     "data": {
      "image/png": "[encoded data removed]",
      "text/plain": [
       "<Figure size 432x288 with 2 Axes>"
      ]
     },
     "metadata": {
      "needs_background": "light"
     },
     "output_type": "display_data"
    }
   ],
   "source": [
    "fig, ax = plt.subplots()\n",
    "hmap = ax.pcolor(heatmapMatrixC, cmap='terrain')\n",
    "cbar = plt.colorbar(hmap)\n",
    "\n",
    "cbar.set_label('cosine similarity', rotation=270)\n",
    "a = ax.set_xticks(np.arange(heatmapMatrixC.shape[1]) + 0.5, minor=False)\n",
    "a = ax.set_yticks(np.arange(heatmapMatrixC.shape[0]) + 0.5, minor=False)\n",
    "\n",
    "a = ax.set_xticklabels(keywords, minor=False, rotation=270)\n",
    "a = ax.set_yticklabels(targetDocs, minor=False)"
   ]
  },
  {
   "cell_type": "markdown",
   "metadata": {},
   "source": [
    "## <span style=\"color:red\">*Exercise 2*</span>\n",
    "\n",
    "<span style=\"color:red\">Construct cells immediately below this that embed documents related to your final project using `doc2vec`, and explore the relationship between different documents and the word vectors you analyzed in the last exercise. Consider the most similar words to critical documents, analogies (doc _x_ + word _y_), and other additions and subtractions that reveal the structure of similarity and difference within your semantic space. What does this pattern reveal about the documentary organization of your semantic space?"
   ]
  },
  {
   "cell_type": "markdown",
   "metadata": {},
   "source": [
    "Unsuprisingly, the documents further open up the story explored above. They too note the distance between the soviet and market and democratic discourses. Looking at the docuemnts it also clearly becomes evident that the Soviet discourse dominates the 1980's while the other discourses domiante the 1990s. This is to be expected. \n",
    "\n",
    "However, if we examine the map of cosine similarity of every 100th docuemnt, then something very interesting emerges. We see that all of the documents that are the furthest apart, temporally, are also quite similar. This is a bit surprising. One possible answer comes in the plot of the cosine similarity of the keywords vs documents. We see that despite the fact that the Soviet Union was talked about a lot initially, and then barely talked about at all, discussions about the USSR picked up again later into the 1990's, potentially indicating that as the economic situation worsenned, comparisons to te USSR became ever more striking. \n",
    "\n",
    "In other areas, this analysis suggests that there is more similarity between documents in the corpus than I imagined. The keywords bank and stock exchange, for example, appear quite strongly in the late 1980's and late 1990's."
   ]
  },
  {
   "cell_type": "markdown",
   "metadata": {},
   "source": [
    "# Projection"
   ]
  },
  {
   "cell_type": "code",
   "execution_count": 103,
   "metadata": {},
   "outputs": [],
   "source": [
    "izTargetWords = ['союз', 'ссср', 'совет', 'Россия', 'федерация', 'колхоз', 'валюта', 'народ', 'партия', 'предприятие', 'рубль', 'секретарь', 'председатель']\n",
    "izTargetWords +=['выбор', 'депутат', 'банк', 'свобода', 'голос', 'проблема', 'демократия', 'демократ', 'воля', 'избирать', 'рынок', 'министр']"
   ]
  },
  {
   "cell_type": "code",
   "execution_count": 104,
   "metadata": {},
   "outputs": [],
   "source": [
    "wordsSubMatrix = []\n",
    "for word in izTargetWords:\n",
    "    wordsSubMatrix.append(izvestiiaW2V[word])\n",
    "wordsSubMatrix = np.array(wordsSubMatrix)"
   ]
  },
  {
   "cell_type": "code",
   "execution_count": 105,
   "metadata": {},
   "outputs": [],
   "source": [
    "pcaWordsiz = sklearn.decomposition.PCA(n_components = 15).fit(wordsSubMatrix)\n",
    "reducedPCA_dataiz = pcaWordsiz.transform(wordsSubMatrix)\n",
    "#T-SNE is theoretically better, but you should experiment\n",
    "tsneWordsiz = sklearn.manifold.TSNE(n_components = 2).fit_transform(reducedPCA_dataiz)"
   ]
  },
  {
   "cell_type": "code",
   "execution_count": 106,
   "metadata": {},
   "outputs": [
    {
     "data": {
      "image/png": "[encoded data removed]",
      "text/plain": [
       "<Figure size 1440x864 with 1 Axes>"
      ]
     },
     "metadata": {},
     "output_type": "display_data"
    }
   ],
   "source": [
    "fig = plt.figure(figsize = (20,12))\n",
    "ax = fig.add_subplot(111)\n",
    "ax.set_frame_on(False)\n",
    "plt.scatter(tsneWordsiz[:, 0], tsneWordsiz[:, 1], alpha = 0) #Making the points invisible\n",
    "for i, word in enumerate(izTargetWords):\n",
    "    ax.annotate(word, (tsneWordsiz[:, 0][i],tsneWordsiz[:, 1][i]), size =  50 * (len(izTargetWords) - i) / len(izTargetWords))\n",
    "plt.xticks(())\n",
    "plt.yticks(())\n",
    "plt.show()"
   ]
  },
  {
   "cell_type": "code",
   "execution_count": 100,
   "metadata": {},
   "outputs": [],
   "source": [
    "def normalize(vector):\n",
    "    normalized_vector = vector / np.linalg.norm(vector)\n",
    "    return normalized_vector\n",
    "\n",
    "def dimension(model, positives, negatives):\n",
    "    diff = sum([normalize(model[x]) for x in positives]) - sum([normalize(model[y]) for y in negatives])\n",
    "    return diff"
   ]
  },
  {
   "cell_type": "code",
   "execution_count": 307,
   "metadata": {},
   "outputs": [],
   "source": [
    "state = dimension(izvestiiaW2V, ['ссср','союз','совет'], ['федерация', 'Россия', 'демократия'])\n",
    "politics = dimension(izvestiiaW2V, ['выбор','депутат','голос'], ['министр', 'секретарь', 'председатель'])"
   ]
  },
  {
   "cell_type": "code",
   "execution_count": 308,
   "metadata": {},
   "outputs": [],
   "source": [
    "freedom = [\"воля\",\"свобода\",\"слово\"]"
   ]
  },
  {
   "cell_type": "code",
   "execution_count": 309,
   "metadata": {},
   "outputs": [],
   "source": [
    "def makeDF(model, word_list):\n",
    "    s = []\n",
    "    p = []\n",
    "    e = []\n",
    "    for word in word_list:\n",
    "        s.append(sklearn.metrics.pairwise.cosine_similarity(izvestiiaW2V[word].reshape(1,-1), state.reshape(1,-1))[0][0])\n",
    "        p.append(sklearn.metrics.pairwise.cosine_similarity(izvestiiaW2V[word].reshape(1,-1), politics.reshape(1,-1))[0][0])\n",
    "        e.append(sklearn.metrics.pairwise.cosine_similarity(izvestiiaW2V[word].reshape(1,-1), economy.reshape(1,-1))[0][0])\n",
    "    df1 = pandas.DataFrame({'state': s, 'politics': p, 'economy': e}, index = word_list)\n",
    "    return df1"
   ]
  },
  {
   "cell_type": "code",
   "execution_count": 310,
   "metadata": {},
   "outputs": [],
   "source": [
    "freedf = makeDF(izvestiiaW2V, freedom) "
   ]
  },
  {
   "cell_type": "code",
   "execution_count": 311,
   "metadata": {},
   "outputs": [],
   "source": [
    "def Coloring(Series):\n",
    "    x = Series.values\n",
    "    y = x-x.min()\n",
    "    z = y/y.max()\n",
    "    c = list(plt.cm.rainbow(z))\n",
    "    return c\n",
    "\n",
    "def PlotDimension(ax,df, dim):\n",
    "    ax.set_frame_on(False)\n",
    "    ax.set_title(dim, fontsize = 20)\n",
    "    colors = Coloring(df[dim])\n",
    "    for i, word in enumerate(df.index):\n",
    "        ax.annotate(word, (0, df[dim][i]), color = colors[i], alpha = 0.6, fontsize = 12)\n",
    "    MaxY = df[dim].max()\n",
    "    MinY = df[dim].min()\n",
    "    plt.ylim(MinY,MaxY)\n",
    "    plt.yticks(())\n",
    "    plt.xticks(())"
   ]
  },
  {
   "cell_type": "code",
   "execution_count": 313,
   "metadata": {},
   "outputs": [
    {
     "data": {
      "image/png": "[encoded data removed]",
      "text/plain": [
       "<Figure size 864x288 with 2 Axes>"
      ]
     },
     "metadata": {},
     "output_type": "display_data"
    }
   ],
   "source": [
    "fig = plt.figure(figsize = (12,4))\n",
    "ax1 = fig.add_subplot(131)\n",
    "PlotDimension(ax1, freedf, 'state')\n",
    "ax2 = fig.add_subplot(132)\n",
    "PlotDimension(ax2, freedf, 'politics')"
   ]
  },
  {
   "cell_type": "markdown",
   "metadata": {},
   "source": [
    "## <span style=\"color:red\">*Exercise 3*</span>\n",
    "\n",
    "<span style=\"color:red\">Construct cells immediately below this that embed documents related to your final project, then generate meaningful semantic dimensions based on your theoretical understanding of the semantic space (i.e., by subtracting semantically opposite word vectors) and project another set of word vectors onto those dimensions. Interpret the meaning of these projections for your analysis. Which of the dimensions you analyze explain the most variation in the projection of your words and why? \n",
    "\n",
    "<span style=\"color:red\">***Stretch***: Average together multiple antonym pairs to create robust semantic dimensions. How do word projections on these robust dimensions differ from single-pair dimensions?"
   ]
  },
  {
   "cell_type": "markdown",
   "metadata": {},
   "source": [
    "It was difficult comming up with dimensions for this, because it a bit difficult to define what words can relate to something as abstract as communism, for example. I decided to plot \"freedom\" because I think that that was a fairly disputed concept in the 1980s and 1990s in Russia, so it would be interesting to see where it falls in terms of the dimensions of politics and state. In both cases free will was on the opposite side of the freedom of speech, but freedom bounced from one extreme to the other. The dichotomy between elections/choice and communism/dictatorship  probably accounts for that difference."
   ]
  },
  {
   "cell_type": "markdown",
   "metadata": {},
   "source": [
    "# Linguistic Change or Difference"
   ]
  },
  {
   "cell_type": "code",
   "execution_count": 232,
   "metadata": {},
   "outputs": [],
   "source": [
    "df1 = pandas.read_json('izvestiia_sent.json')"
   ]
  },
  {
   "cell_type": "code",
   "execution_count": 236,
   "metadata": {},
   "outputs": [
    {
     "data": {
      "text/html": [
       "<div>\n",
       "<style scoped>\n",
       "    .dataframe tbody tr th:only-of-type {\n",
       "        vertical-align: middle;\n",
       "    }\n",
       "\n",
       "    .dataframe tbody tr th {\n",
       "        vertical-align: top;\n",
       "    }\n",
       "\n",
       "    .dataframe thead th {\n",
       "        text-align: right;\n",
       "    }\n",
       "</style>\n",
       "<table border=\"1\" class=\"dataframe\">\n",
       "  <thead>\n",
       "    <tr style=\"text-align: right;\">\n",
       "      <th></th>\n",
       "      <th>year</th>\n",
       "      <th>filename</th>\n",
       "      <th>sent_tokens</th>\n",
       "    </tr>\n",
       "  </thead>\n",
       "  <tbody>\n",
       "    <tr>\n",
       "      <td>0</td>\n",
       "      <td>1984</td>\n",
       "      <td>1984 Issue 082 Page 1.txt</td>\n",
       "      <td>[[правовое, воспитание, молодежиллдин, мз, дне...</td>\n",
       "    </tr>\n",
       "    <tr>\n",
       "      <td>1</td>\n",
       "      <td>1984</td>\n",
       "      <td>1984 Issue 082 Page 2.txt</td>\n",
       "      <td>[[земля, ,, план, и, людимы, любим, говорить, ...</td>\n",
       "    </tr>\n",
       "    <tr>\n",
       "      <td>2</td>\n",
       "      <td>1984</td>\n",
       "      <td>1984 Issue 082 Page 3.txt</td>\n",
       "      <td>[[в, президиумах, доеных, советов, союзных, ре...</td>\n",
       "    </tr>\n",
       "    <tr>\n",
       "      <td>3</td>\n",
       "      <td>1984</td>\n",
       "      <td>1984 Issue 082 Page 4.txt</td>\n",
       "      <td>[[по, странам, и, континентамновостилаоспуть, ...</td>\n",
       "    </tr>\n",
       "    <tr>\n",
       "      <td>4</td>\n",
       "      <td>1984</td>\n",
       "      <td>1984 Issue 082 Page 5.txt</td>\n",
       "      <td>[[фотоатлас, известийвьетнамизо, дня, в, дань,...</td>\n",
       "    </tr>\n",
       "    <tr>\n",
       "      <td>...</td>\n",
       "      <td>...</td>\n",
       "      <td>...</td>\n",
       "      <td>...</td>\n",
       "    </tr>\n",
       "    <tr>\n",
       "      <td>1299</td>\n",
       "      <td>1997</td>\n",
       "      <td>1997 Issue 94 May 22 Page 5.txt</td>\n",
       "      <td>[[известия, мая, года, ирина, суворова, илья, ...</td>\n",
       "    </tr>\n",
       "    <tr>\n",
       "      <td>1300</td>\n",
       "      <td>1997</td>\n",
       "      <td>1997 Issue 94 May 22 Page 6.txt</td>\n",
       "      <td>[[известиябольшиеозможностиростадля, заинтерес...</td>\n",
       "    </tr>\n",
       "    <tr>\n",
       "      <td>1301</td>\n",
       "      <td>1997</td>\n",
       "      <td>1997 Issue 94 May 22 Page 7.txt</td>\n",
       "      <td>[[брокерская, компанияфыочрсы, и, опционы, на,...</td>\n",
       "    </tr>\n",
       "    <tr>\n",
       "      <td>1302</td>\n",
       "      <td>1997</td>\n",
       "      <td>1997 Issue 94 May 22 Page 8.txt</td>\n",
       "      <td>[[мая, г., ,, четвергбизнес, и, экономикафинан...</td>\n",
       "    </tr>\n",
       "    <tr>\n",
       "      <td>1303</td>\n",
       "      <td>1997</td>\n",
       "      <td>1997 Issue 94 May 22 Page 9.txt</td>\n",
       "      <td>[[финансовые, известия, банки, и, финансы, мая...</td>\n",
       "    </tr>\n",
       "  </tbody>\n",
       "</table>\n",
       "<p>1304 rows × 3 columns</p>\n",
       "</div>"
      ],
      "text/plain": [
       "      year                         filename  \\\n",
       "0     1984        1984 Issue 082 Page 1.txt   \n",
       "1     1984        1984 Issue 082 Page 2.txt   \n",
       "2     1984        1984 Issue 082 Page 3.txt   \n",
       "3     1984        1984 Issue 082 Page 4.txt   \n",
       "4     1984        1984 Issue 082 Page 5.txt   \n",
       "...    ...                              ...   \n",
       "1299  1997  1997 Issue 94 May 22 Page 5.txt   \n",
       "1300  1997  1997 Issue 94 May 22 Page 6.txt   \n",
       "1301  1997  1997 Issue 94 May 22 Page 7.txt   \n",
       "1302  1997  1997 Issue 94 May 22 Page 8.txt   \n",
       "1303  1997  1997 Issue 94 May 22 Page 9.txt   \n",
       "\n",
       "                                            sent_tokens  \n",
       "0     [[правовое, воспитание, молодежиллдин, мз, дне...  \n",
       "1     [[земля, ,, план, и, людимы, любим, говорить, ...  \n",
       "2     [[в, президиумах, доеных, советов, союзных, ре...  \n",
       "3     [[по, странам, и, континентамновостилаоспуть, ...  \n",
       "4     [[фотоатлас, известийвьетнамизо, дня, в, дань,...  \n",
       "...                                                 ...  \n",
       "1299  [[известия, мая, года, ирина, суворова, илья, ...  \n",
       "1300  [[известиябольшиеозможностиростадля, заинтерес...  \n",
       "1301  [[брокерская, компанияфыочрсы, и, опционы, на,...  \n",
       "1302  [[мая, г., ,, четвергбизнес, и, экономикафинан...  \n",
       "1303  [[финансовые, известия, банки, и, финансы, мая...  \n",
       "\n",
       "[1304 rows x 3 columns]"
      ]
     },
     "execution_count": 236,
     "metadata": {},
     "output_type": "execute_result"
    }
   ],
   "source": [
    "df1"
   ]
  },
  {
   "cell_type": "code",
   "execution_count": 118,
   "metadata": {},
   "outputs": [],
   "source": [
    "import copy"
   ]
  },
  {
   "cell_type": "code",
   "execution_count": 119,
   "metadata": {},
   "outputs": [],
   "source": [
    "def calc_syn0norm(model):\n",
    "    \"\"\"since syn0norm is now depricated\"\"\"\n",
    "    return (model.wv.syn0 / np.sqrt((model.wv.syn0 ** 2).sum(-1))[..., np.newaxis]).astype(np.float32)\n",
    "\n",
    "def smart_procrustes_align_gensim(base_embed, other_embed, words=None):\n",
    "    \"\"\"Procrustes align two gensim word2vec models (to allow for comparison between same word across models).\n",
    "    Code ported from HistWords <https://github.com/williamleif/histwords> by William Hamilton <wleif@stanford.edu>.\n",
    "    (With help from William. Thank you!)\n",
    "    First, intersect the vocabularies (see `intersection_align_gensim` documentation).\n",
    "    Then do the alignment on the other_embed model.\n",
    "    Replace the other_embed model's syn0 and syn0norm numpy matrices with the aligned version.\n",
    "    Return other_embed.\n",
    "    If `words` is set, intersect the two models' vocabulary with the vocabulary in words (see `intersection_align_gensim` documentation).\n",
    "    \"\"\"\n",
    "    base_embed = copy.copy(base_embed)\n",
    "    other_embed = copy.copy(other_embed)\n",
    "    # make sure vocabulary and indices are aligned\n",
    "    in_base_embed, in_other_embed = intersection_align_gensim(base_embed, other_embed, words=words)\n",
    "\n",
    "    # get the embedding matrices\n",
    "    base_vecs = calc_syn0norm(in_base_embed)\n",
    "    other_vecs = calc_syn0norm(in_other_embed)\n",
    "\n",
    "    # just a matrix dot product with numpy\n",
    "    m = other_vecs.T.dot(base_vecs) \n",
    "    # SVD method from numpy\n",
    "    u, _, v = np.linalg.svd(m)\n",
    "    # another matrix operation\n",
    "    ortho = u.dot(v) \n",
    "    # Replace original array with modified one\n",
    "    # i.e. multiplying the embedding matrix (syn0norm)by \"ortho\"\n",
    "    other_embed.wv.syn0norm = other_embed.wv.syn0 = (calc_syn0norm(other_embed)).dot(ortho)\n",
    "    return other_embed\n",
    "    \n",
    "def intersection_align_gensim(m1,m2, words=None):\n",
    "    \"\"\"\n",
    "    Intersect two gensim word2vec models, m1 and m2.\n",
    "    Only the shared vocabulary between them is kept.\n",
    "    If 'words' is set (as list or set), then the vocabulary is intersected with this list as well.\n",
    "    Indices are re-organized from 0..N in order of descending frequency (=sum of counts from both m1 and m2).\n",
    "    These indices correspond to the new syn0 and syn0norm objects in both gensim models:\n",
    "        -- so that Row 0 of m1.syn0 will be for the same word as Row 0 of m2.syn0\n",
    "        -- you can find the index of any word on the .index2word list: model.index2word.index(word) => 2\n",
    "    The .vocab dictionary is also updated for each model, preserving the count but updating the index.\n",
    "    \"\"\"\n",
    "\n",
    "    # Get the vocab for each model\n",
    "    vocab_m1 = set(m1.wv.vocab.keys())\n",
    "    vocab_m2 = set(m2.wv.vocab.keys())\n",
    "\n",
    "    # Find the common vocabulary\n",
    "    common_vocab = vocab_m1&vocab_m2\n",
    "    if words: common_vocab&=set(words)\n",
    "\n",
    "    # If no alignment necessary because vocab is identical...\n",
    "    if not vocab_m1-common_vocab and not vocab_m2-common_vocab:\n",
    "        return (m1,m2)\n",
    "\n",
    "    # Otherwise sort by frequency (summed for both)\n",
    "    common_vocab = list(common_vocab)\n",
    "    common_vocab.sort(key=lambda w: m1.wv.vocab[w].count + m2.wv.vocab[w].count,reverse=True)\n",
    "\n",
    "    # Then for each model...\n",
    "    for m in [m1,m2]:\n",
    "        # Replace old syn0norm array with new one (with common vocab)\n",
    "        indices = [m.wv.vocab[w].index for w in common_vocab]\n",
    "        old_arr = calc_syn0norm(m)\n",
    "        new_arr = np.array([old_arr[index] for index in indices])\n",
    "        m.wv.syn0norm = m.wv.syn0 = new_arr\n",
    "\n",
    "        # Replace old vocab dictionary with new one (with common vocab)\n",
    "        # and old index2word with new one\n",
    "        m.index2word = common_vocab\n",
    "        old_vocab = m.wv.vocab\n",
    "        new_vocab = {}\n",
    "        for new_index,word in enumerate(common_vocab):\n",
    "            old_vocab_obj=old_vocab[word]\n",
    "            new_vocab[word] = gensim.models.word2vec.Vocab(index=new_index, count=old_vocab_obj.count)\n",
    "        m.wv.vocab = new_vocab\n",
    "\n",
    "    return (m1,m2)"
   ]
  },
  {
   "cell_type": "code",
   "execution_count": 237,
   "metadata": {},
   "outputs": [],
   "source": [
    "def compareModels(df1, category, text_column_name='sent_tokens', sort = True, embeddings_raw={}):\n",
    "    \"\"\"If you are using time as your category sorting is important\"\"\"\n",
    "    if len(embeddings_raw) == 0:\n",
    "        embeddings_raw = rawModels(df1, category, text_column_name, sort)\n",
    "    cats = sorted(set(df1[category]))\n",
    "    #These are much quicker\n",
    "    embeddings_aligned = {}\n",
    "    for catOuter in cats:\n",
    "        embeddings_aligned[catOuter] = [embeddings_raw[catOuter]]\n",
    "        for catInner in cats:\n",
    "            embeddings_aligned[catOuter].append(smart_procrustes_align_gensim(embeddings_aligned[catOuter][-1], embeddings_raw[catInner]))\n",
    "    return embeddings_raw, embeddings_aligned"
   ]
  },
  {
   "cell_type": "code",
   "execution_count": 240,
   "metadata": {},
   "outputs": [],
   "source": [
    "def rawModels(df1, category, text_column_name='sent_tokens', sort = True):\n",
    "    embeddings_raw = {}\n",
    "    cats = sorted(set(df1[category]))\n",
    "    for cat in cats:\n",
    "        #This can take a while\n",
    "        print(\"Embedding {}\".format(cat), end = '\\r')\n",
    "        subsetDF = df1[df1[category] == cat]\n",
    "        #You might want to change the W2V parameters\n",
    "        embeddings_raw[cat] = gensim.models.word2vec.Word2Vec(subsetDF[text_column_name].sum())\n",
    "    return embeddings_raw"
   ]
  },
  {
   "cell_type": "code",
   "execution_count": 241,
   "metadata": {},
   "outputs": [
    {
     "name": "stdout",
     "output_type": "stream",
     "text": [
      "Embedding 1997\r"
     ]
    }
   ],
   "source": [
    "rawEmbeddings, comparedEmbeddings = compareModels(df1, 'year')"
   ]
  },
  {
   "cell_type": "code",
   "execution_count": 242,
   "metadata": {},
   "outputs": [
    {
     "data": {
      "text/plain": [
       "dict_keys([1984, 1985, 1986, 1987, 1988, 1989, 1990, 1991, 1992, 1993, 1994, 1995, 1996, 1997])"
      ]
     },
     "execution_count": 242,
     "metadata": {},
     "output_type": "execute_result"
    }
   ],
   "source": [
    "rawEmbeddings.keys()"
   ]
  },
  {
   "cell_type": "code",
   "execution_count": 243,
   "metadata": {},
   "outputs": [],
   "source": [
    "def getDivergenceDF(word, embeddingsDict):\n",
    "    dists = []\n",
    "    cats = sorted(set(embeddingsDict.keys()))\n",
    "    dists = {}\n",
    "    print(word)\n",
    "    for cat in cats:\n",
    "        dists[cat] = []\n",
    "        for embed in embeddingsDict[cat][1:]:\n",
    "            dists[cat].append(np.abs(1 - sklearn.metrics.pairwise.cosine_similarity(np.expand_dims(embeddingsDict[cat][0][word], axis = 0),\n",
    "                                                                             np.expand_dims(embed[word], axis = 0))[0,0]))\n",
    "    return pandas.DataFrame(dists, index = cats)"
   ]
  },
  {
   "cell_type": "code",
   "execution_count": 244,
   "metadata": {},
   "outputs": [
    {
     "name": "stdout",
     "output_type": "stream",
     "text": [
      "ссср\n"
     ]
    },
    {
     "data": {
      "image/png": "[encoded data removed]",
      "text/plain": [
       "<Figure size 720x504 with 2 Axes>"
      ]
     },
     "metadata": {
      "needs_background": "light"
     },
     "output_type": "display_data"
    }
   ],
   "source": [
    "targetWord = 'ссср'\n",
    "\n",
    "pltDF = getDivergenceDF(targetWord, comparedEmbeddings)\n",
    "fig, ax = plt.subplots(figsize = (10, 7))\n",
    "seaborn.heatmap(pltDF, ax = ax, annot = False) #set annot True for a lot more information\n",
    "ax.set_xlabel(\"Starting year\")\n",
    "ax.set_ylabel(\"Final year\")\n",
    "ax.set_ylabel(\"Final year\")\n",
    "ax.set_title(\"Yearly linguistic change for: '{}'\".format(targetWord))\n",
    "plt.show()"
   ]
  },
  {
   "cell_type": "code",
   "execution_count": 245,
   "metadata": {},
   "outputs": [
    {
     "name": "stdout",
     "output_type": "stream",
     "text": [
      "ссср\n"
     ]
    },
    {
     "data": {
      "image/png": "[encoded data removed]",
      "text/plain": [
       "<Figure size 720x504 with 2 Axes>"
      ]
     },
     "metadata": {
      "needs_background": "light"
     },
     "output_type": "display_data"
    }
   ],
   "source": [
    "targetWord = 'ссср'\n",
    "\n",
    "pltDF = getDivergenceDF(targetWord, comparedEmbeddings)\n",
    "fig, ax = plt.subplots(figsize = (10, 7))\n",
    "seaborn.heatmap(pltDF, ax = ax, annot = True) #set annot True for a lot more information\n",
    "ax.set_xlabel(\"Starting year\")\n",
    "ax.set_ylabel(\"Final year\")\n",
    "ax.set_ylabel(\"Final year\")\n",
    "ax.set_title(\"Yearly linguistic change for: '{}'\".format(targetWord))\n",
    "plt.show()"
   ]
  },
  {
   "cell_type": "code",
   "execution_count": 246,
   "metadata": {},
   "outputs": [],
   "source": [
    "def findDiverence(word, embeddingsDict):\n",
    "    cats = sorted(set(embeddingsDict.keys()))\n",
    "    \n",
    "    dists = []\n",
    "    for embed in embeddingsDict[cats[0]][1:]:\n",
    "        dists.append(1 - sklearn.metrics.pairwise.cosine_similarity(np.expand_dims(embeddingsDict[cats[0]][0][word], axis = 0), np.expand_dims(embed[word], axis = 0))[0,0])\n",
    "    return sum(dists)\n",
    "\n",
    "def findMostDivergent(embeddingsDict):\n",
    "    words = []\n",
    "    for embeds in embeddingsDict.values():\n",
    "        for embed in embeds:\n",
    "            words += list(embed.wv.vocab.keys())\n",
    "    words = set(words)\n",
    "    print(\"Found {} words to compare\".format(len(words)))\n",
    "    return sorted([(w, findDiverence(w, embeddingsDict)) for w in words], key = lambda x: x[1], reverse=True)\n",
    "    "
   ]
  },
  {
   "cell_type": "code",
   "execution_count": 247,
   "metadata": {},
   "outputs": [
    {
     "name": "stdout",
     "output_type": "stream",
     "text": [
      "Found 1659 words to compare\n"
     ]
    }
   ],
   "source": [
    "wordDivergences = findMostDivergent(comparedEmbeddings)"
   ]
  },
  {
   "cell_type": "code",
   "execution_count": 300,
   "metadata": {},
   "outputs": [
    {
     "data": {
      "text/plain": [
       "[('в.', 5.88282884657383),\n",
       " ('г.', 5.640949197113514),\n",
       " ('а.', 5.138058066368103),\n",
       " ('м.', 5.023663312196732),\n",
       " ('к.', 4.957236975431442),\n",
       " ('и.', 4.491626709699631),\n",
       " ('н.', 4.380009353160858),\n",
       " ('ссср', 3.687033951282501),\n",
       " ('д.', 3.6578379571437836),\n",
       " ('г', 3.253180146217346),\n",
       " ('совета', 3.2190012335777283),\n",
       " ('л.', 3.1636140942573547),\n",
       " ('с.', 2.9682118892669678),\n",
       " ('м', 2.892179250717163),\n",
       " ('т.', 2.8163591027259827),\n",
       " ('секретарь', 2.6234918236732483),\n",
       " ('верховного', 2.5850272178649902),\n",
       " ('н', 2.563860833644867),\n",
       " ('заместитель', 2.5180302262306213),\n",
       " ('министров', 2.5140129923820496),\n",
       " ('л', 2.5109869241714478),\n",
       " ('т', 2.4022801518440247),\n",
       " ('!', 2.3824762403964996),\n",
       " ('председатель', 2.2258560061454773),\n",
       " ('п', 2.1773945689201355),\n",
       " ('п.', 2.097457766532898),\n",
       " ('не', 2.058135449886322),\n",
       " ('председателя', 2.0415455102920532),\n",
       " ('.', 2.029260575771332),\n",
       " ('р', 2.0277827382087708),\n",
       " ('министра', 2.01390939950943),\n",
       " ('первый', 1.9932477474212646),\n",
       " ('д', 1.967625379562378),\n",
       " ('москва', 1.95870041847229),\n",
       " ('о.', 1.8550169467926025),\n",
       " ('ч', 1.7884961366653442),\n",
       " ('только', 1.7788824439048767),\n",
       " ('ы', 1.7661093473434448),\n",
       " ('е.', 1.7641659379005432),\n",
       " ('тел', 1.7152507305145264)]"
      ]
     },
     "execution_count": 300,
     "metadata": {},
     "output_type": "execute_result"
    }
   ],
   "source": [
    "wordDivergences[:40]"
   ]
  },
  {
   "cell_type": "code",
   "execution_count": 304,
   "metadata": {},
   "outputs": [
    {
     "data": {
      "text/plain": [
       "[('действий', 0.024268746376037598),\n",
       " ('успешно', 0.023893415927886963),\n",
       " ('наших', 0.023854374885559082),\n",
       " ('новое', 0.02344036102294922),\n",
       " ('ныне', 0.023429036140441895),\n",
       " ('событий', 0.02331143617630005),\n",
       " ('полностью', 0.023208439350128174),\n",
       " ('борьба', 0.022957324981689453),\n",
       " ('провести', 0.02283954620361328),\n",
       " ('данные', 0.0228080153465271),\n",
       " ('свой', 0.022788047790527344),\n",
       " ('специалисты', 0.02273106575012207),\n",
       " ('внимание', 0.02240002155303955),\n",
       " ('европе', 0.021819114685058594),\n",
       " ('решили', 0.021814823150634766),\n",
       " ('помощи', 0.021607935428619385),\n",
       " ('которыми', 0.021436452865600586),\n",
       " ('включая', 0.021435439586639404),\n",
       " ('производство', 0.02115565538406372),\n",
       " ('ряд', 0.020879030227661133),\n",
       " ('начал', 0.020855307579040527),\n",
       " ('военные', 0.020229816436767578),\n",
       " ('серьезные', 0.02011585235595703),\n",
       " ('необходимость', 0.019770562648773193),\n",
       " ('впервые', 0.01975160837173462),\n",
       " ('которого', 0.018629729747772217),\n",
       " ('роль', 0.01842266321182251),\n",
       " ('новую', 0.018192589282989502),\n",
       " ('среди', 0.01798856258392334),\n",
       " ('над', 0.017808258533477783),\n",
       " ('всему', 0.017564356327056885),\n",
       " ('которую', 0.017398178577423096),\n",
       " ('сотни', 0.01710641384124756),\n",
       " ('недавно', 0.016194820404052734),\n",
       " ('второй', 0.016086041927337646),\n",
       " ('пути', 0.015759766101837158),\n",
       " ('стал', 0.015077471733093262),\n",
       " ('помощью', 0.014818251132965088),\n",
       " ('перед', 0.014741837978363037),\n",
       " ('новым', 0.014533281326293945)]"
      ]
     },
     "execution_count": 304,
     "metadata": {},
     "output_type": "execute_result"
    }
   ],
   "source": [
    "wordDivergences[-40:]"
   ]
  },
  {
   "cell_type": "code",
   "execution_count": 303,
   "metadata": {},
   "outputs": [
    {
     "name": "stdout",
     "output_type": "stream",
     "text": [
      "совета\n"
     ]
    },
    {
     "data": {
      "image/png": "[encoded data removed]",
      "text/plain": [
       "<Figure size 720x504 with 2 Axes>"
      ]
     },
     "metadata": {
      "needs_background": "light"
     },
     "output_type": "display_data"
    }
   ],
   "source": [
    "targetWord = wordDivergences[10][0]\n",
    "\n",
    "pltDF = getDivergenceDF(targetWord, comparedEmbeddings)\n",
    "fig, ax = plt.subplots(figsize = (10, 7))\n",
    "seaborn.heatmap(pltDF, ax = ax, annot = False) #set annot True for a lot more information\n",
    "ax.set_xlabel(\"Starting year\")\n",
    "ax.set_ylabel(\"Final year\")\n",
    "ax.set_ylabel(\"Final year\")\n",
    "ax.set_title(\"Yearly linguistic change for: '{}'\".format(targetWord))\n",
    "plt.show()"
   ]
  },
  {
   "cell_type": "code",
   "execution_count": 306,
   "metadata": {},
   "outputs": [
    {
     "name": "stdout",
     "output_type": "stream",
     "text": [
      "военные\n"
     ]
    },
    {
     "data": {
      "image/png": "[encoded data removed]",
      "text/plain": [
       "<Figure size 720x504 with 2 Axes>"
      ]
     },
     "metadata": {
      "needs_background": "light"
     },
     "output_type": "display_data"
    }
   ],
   "source": [
    "targetWord = wordDivergences[-19][0]\n",
    "\n",
    "pltDF = getDivergenceDF(targetWord, comparedEmbeddings)\n",
    "fig, ax = plt.subplots(figsize = (10, 7))\n",
    "seaborn.heatmap(pltDF, ax = ax, annot = False) #set annot True for a lot more information\n",
    "ax.set_xlabel(\"Starting year\")\n",
    "ax.set_ylabel(\"Final year\")\n",
    "ax.set_ylabel(\"Final year\")\n",
    "ax.set_title(\"Yearly linguistic change for: '{}'\".format(targetWord))\n",
    "plt.show()"
   ]
  },
  {
   "cell_type": "markdown",
   "metadata": {},
   "source": [
    "<span style=\"color:red\">**Do only 4a or 4b.** Construct cells immediately below this that align word embeddings over time or across domains/corpora. Interrogate the spaces that result and ask which words changed most and least over the entire period or between contexts/corpora. What does this reveal about the social game underlying your space? \n",
    "   "
   ]
  },
  {
   "cell_type": "markdown",
   "metadata": {},
   "source": [
    "The words that changed the most all relate to a Soviet discourse. Things such as minister, Soviet, Secretary, and even USSR are all in the most divergent words. On the other hand, words such as military, and battle, are in the lease divergent. \n",
    "\n",
    "War, as they say, never changes."
   ]
  },
  {
   "cell_type": "code",
   "execution_count": null,
   "metadata": {},
   "outputs": [],
   "source": []
  }
 ],
 "metadata": {
  "kernelspec": {
   "display_name": "Python 3",
   "language": "python",
   "name": "python3"
  },
  "language_info": {
   "codemirror_mode": {
    "name": "ipython",
    "version": 3
   },
   "file_extension": ".py",
   "mimetype": "text/x-python",
   "name": "python",
   "nbconvert_exporter": "python",
   "pygments_lexer": "ipython3",
   "version": "3.7.4"
  }
 },
 "nbformat": 4,
 "nbformat_minor": 2
}
